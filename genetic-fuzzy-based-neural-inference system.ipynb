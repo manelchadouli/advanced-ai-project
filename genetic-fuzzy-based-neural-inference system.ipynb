{
  "cells": [
    {
      "cell_type": "code",
      "execution_count": null,
      "metadata": {
        "colab": {
          "base_uri": "https://localhost:8080/",
          "height": 206
        },
        "id": "6FkHe_Xh48vL",
        "outputId": "c87178aa-c8da-4a6e-e980-105bbb53cfbd"
      },
      "outputs": [
        {
          "output_type": "execute_result",
          "data": {
            "text/plain": [
              "   Pregnancies  Glucose  BloodPressure  SkinThickness  Insulin   BMI  \\\n",
              "0            6      148             72             35        0  33.6   \n",
              "1            1       85             66             29        0  26.6   \n",
              "2            8      183             64              0        0  23.3   \n",
              "3            1       89             66             23       94  28.1   \n",
              "4            0      137             40             35      168  43.1   \n",
              "\n",
              "   DiabetesPedigreeFunction  Age  Outcome  \n",
              "0                     0.627   50        1  \n",
              "1                     0.351   31        0  \n",
              "2                     0.672   32        1  \n",
              "3                     0.167   21        0  \n",
              "4                     2.288   33        1  "
            ],
            "text/html": [
              "\n",
              "  <div id=\"df-81565d82-7e56-42bb-bbee-95b7f5ffdda8\" class=\"colab-df-container\">\n",
              "    <div>\n",
              "<style scoped>\n",
              "    .dataframe tbody tr th:only-of-type {\n",
              "        vertical-align: middle;\n",
              "    }\n",
              "\n",
              "    .dataframe tbody tr th {\n",
              "        vertical-align: top;\n",
              "    }\n",
              "\n",
              "    .dataframe thead th {\n",
              "        text-align: right;\n",
              "    }\n",
              "</style>\n",
              "<table border=\"1\" class=\"dataframe\">\n",
              "  <thead>\n",
              "    <tr style=\"text-align: right;\">\n",
              "      <th></th>\n",
              "      <th>Pregnancies</th>\n",
              "      <th>Glucose</th>\n",
              "      <th>BloodPressure</th>\n",
              "      <th>SkinThickness</th>\n",
              "      <th>Insulin</th>\n",
              "      <th>BMI</th>\n",
              "      <th>DiabetesPedigreeFunction</th>\n",
              "      <th>Age</th>\n",
              "      <th>Outcome</th>\n",
              "    </tr>\n",
              "  </thead>\n",
              "  <tbody>\n",
              "    <tr>\n",
              "      <th>0</th>\n",
              "      <td>6</td>\n",
              "      <td>148</td>\n",
              "      <td>72</td>\n",
              "      <td>35</td>\n",
              "      <td>0</td>\n",
              "      <td>33.6</td>\n",
              "      <td>0.627</td>\n",
              "      <td>50</td>\n",
              "      <td>1</td>\n",
              "    </tr>\n",
              "    <tr>\n",
              "      <th>1</th>\n",
              "      <td>1</td>\n",
              "      <td>85</td>\n",
              "      <td>66</td>\n",
              "      <td>29</td>\n",
              "      <td>0</td>\n",
              "      <td>26.6</td>\n",
              "      <td>0.351</td>\n",
              "      <td>31</td>\n",
              "      <td>0</td>\n",
              "    </tr>\n",
              "    <tr>\n",
              "      <th>2</th>\n",
              "      <td>8</td>\n",
              "      <td>183</td>\n",
              "      <td>64</td>\n",
              "      <td>0</td>\n",
              "      <td>0</td>\n",
              "      <td>23.3</td>\n",
              "      <td>0.672</td>\n",
              "      <td>32</td>\n",
              "      <td>1</td>\n",
              "    </tr>\n",
              "    <tr>\n",
              "      <th>3</th>\n",
              "      <td>1</td>\n",
              "      <td>89</td>\n",
              "      <td>66</td>\n",
              "      <td>23</td>\n",
              "      <td>94</td>\n",
              "      <td>28.1</td>\n",
              "      <td>0.167</td>\n",
              "      <td>21</td>\n",
              "      <td>0</td>\n",
              "    </tr>\n",
              "    <tr>\n",
              "      <th>4</th>\n",
              "      <td>0</td>\n",
              "      <td>137</td>\n",
              "      <td>40</td>\n",
              "      <td>35</td>\n",
              "      <td>168</td>\n",
              "      <td>43.1</td>\n",
              "      <td>2.288</td>\n",
              "      <td>33</td>\n",
              "      <td>1</td>\n",
              "    </tr>\n",
              "  </tbody>\n",
              "</table>\n",
              "</div>\n",
              "    <div class=\"colab-df-buttons\">\n",
              "\n",
              "  <div class=\"colab-df-container\">\n",
              "    <button class=\"colab-df-convert\" onclick=\"convertToInteractive('df-81565d82-7e56-42bb-bbee-95b7f5ffdda8')\"\n",
              "            title=\"Convert this dataframe to an interactive table.\"\n",
              "            style=\"display:none;\">\n",
              "\n",
              "  <svg xmlns=\"http://www.w3.org/2000/svg\" height=\"24px\" viewBox=\"0 -960 960 960\">\n",
              "    <path d=\"M120-120v-720h720v720H120Zm60-500h600v-160H180v160Zm220 220h160v-160H400v160Zm0 220h160v-160H400v160ZM180-400h160v-160H180v160Zm440 0h160v-160H620v160ZM180-180h160v-160H180v160Zm440 0h160v-160H620v160Z\"/>\n",
              "  </svg>\n",
              "    </button>\n",
              "\n",
              "  <style>\n",
              "    .colab-df-container {\n",
              "      display:flex;\n",
              "      gap: 12px;\n",
              "    }\n",
              "\n",
              "    .colab-df-convert {\n",
              "      background-color: #E8F0FE;\n",
              "      border: none;\n",
              "      border-radius: 50%;\n",
              "      cursor: pointer;\n",
              "      display: none;\n",
              "      fill: #1967D2;\n",
              "      height: 32px;\n",
              "      padding: 0 0 0 0;\n",
              "      width: 32px;\n",
              "    }\n",
              "\n",
              "    .colab-df-convert:hover {\n",
              "      background-color: #E2EBFA;\n",
              "      box-shadow: 0px 1px 2px rgba(60, 64, 67, 0.3), 0px 1px 3px 1px rgba(60, 64, 67, 0.15);\n",
              "      fill: #174EA6;\n",
              "    }\n",
              "\n",
              "    .colab-df-buttons div {\n",
              "      margin-bottom: 4px;\n",
              "    }\n",
              "\n",
              "    [theme=dark] .colab-df-convert {\n",
              "      background-color: #3B4455;\n",
              "      fill: #D2E3FC;\n",
              "    }\n",
              "\n",
              "    [theme=dark] .colab-df-convert:hover {\n",
              "      background-color: #434B5C;\n",
              "      box-shadow: 0px 1px 3px 1px rgba(0, 0, 0, 0.15);\n",
              "      filter: drop-shadow(0px 1px 2px rgba(0, 0, 0, 0.3));\n",
              "      fill: #FFFFFF;\n",
              "    }\n",
              "  </style>\n",
              "\n",
              "    <script>\n",
              "      const buttonEl =\n",
              "        document.querySelector('#df-81565d82-7e56-42bb-bbee-95b7f5ffdda8 button.colab-df-convert');\n",
              "      buttonEl.style.display =\n",
              "        google.colab.kernel.accessAllowed ? 'block' : 'none';\n",
              "\n",
              "      async function convertToInteractive(key) {\n",
              "        const element = document.querySelector('#df-81565d82-7e56-42bb-bbee-95b7f5ffdda8');\n",
              "        const dataTable =\n",
              "          await google.colab.kernel.invokeFunction('convertToInteractive',\n",
              "                                                    [key], {});\n",
              "        if (!dataTable) return;\n",
              "\n",
              "        const docLinkHtml = 'Like what you see? Visit the ' +\n",
              "          '<a target=\"_blank\" href=https://colab.research.google.com/notebooks/data_table.ipynb>data table notebook</a>'\n",
              "          + ' to learn more about interactive tables.';\n",
              "        element.innerHTML = '';\n",
              "        dataTable['output_type'] = 'display_data';\n",
              "        await google.colab.output.renderOutput(dataTable, element);\n",
              "        const docLink = document.createElement('div');\n",
              "        docLink.innerHTML = docLinkHtml;\n",
              "        element.appendChild(docLink);\n",
              "      }\n",
              "    </script>\n",
              "  </div>\n",
              "\n",
              "\n",
              "<div id=\"df-25f7172d-26eb-47e6-a0f0-f4e4a5528a9c\">\n",
              "  <button class=\"colab-df-quickchart\" onclick=\"quickchart('df-25f7172d-26eb-47e6-a0f0-f4e4a5528a9c')\"\n",
              "            title=\"Suggest charts\"\n",
              "            style=\"display:none;\">\n",
              "\n",
              "<svg xmlns=\"http://www.w3.org/2000/svg\" height=\"24px\"viewBox=\"0 0 24 24\"\n",
              "     width=\"24px\">\n",
              "    <g>\n",
              "        <path d=\"M19 3H5c-1.1 0-2 .9-2 2v14c0 1.1.9 2 2 2h14c1.1 0 2-.9 2-2V5c0-1.1-.9-2-2-2zM9 17H7v-7h2v7zm4 0h-2V7h2v10zm4 0h-2v-4h2v4z\"/>\n",
              "    </g>\n",
              "</svg>\n",
              "  </button>\n",
              "\n",
              "<style>\n",
              "  .colab-df-quickchart {\n",
              "      --bg-color: #E8F0FE;\n",
              "      --fill-color: #1967D2;\n",
              "      --hover-bg-color: #E2EBFA;\n",
              "      --hover-fill-color: #174EA6;\n",
              "      --disabled-fill-color: #AAA;\n",
              "      --disabled-bg-color: #DDD;\n",
              "  }\n",
              "\n",
              "  [theme=dark] .colab-df-quickchart {\n",
              "      --bg-color: #3B4455;\n",
              "      --fill-color: #D2E3FC;\n",
              "      --hover-bg-color: #434B5C;\n",
              "      --hover-fill-color: #FFFFFF;\n",
              "      --disabled-bg-color: #3B4455;\n",
              "      --disabled-fill-color: #666;\n",
              "  }\n",
              "\n",
              "  .colab-df-quickchart {\n",
              "    background-color: var(--bg-color);\n",
              "    border: none;\n",
              "    border-radius: 50%;\n",
              "    cursor: pointer;\n",
              "    display: none;\n",
              "    fill: var(--fill-color);\n",
              "    height: 32px;\n",
              "    padding: 0;\n",
              "    width: 32px;\n",
              "  }\n",
              "\n",
              "  .colab-df-quickchart:hover {\n",
              "    background-color: var(--hover-bg-color);\n",
              "    box-shadow: 0 1px 2px rgba(60, 64, 67, 0.3), 0 1px 3px 1px rgba(60, 64, 67, 0.15);\n",
              "    fill: var(--button-hover-fill-color);\n",
              "  }\n",
              "\n",
              "  .colab-df-quickchart-complete:disabled,\n",
              "  .colab-df-quickchart-complete:disabled:hover {\n",
              "    background-color: var(--disabled-bg-color);\n",
              "    fill: var(--disabled-fill-color);\n",
              "    box-shadow: none;\n",
              "  }\n",
              "\n",
              "  .colab-df-spinner {\n",
              "    border: 2px solid var(--fill-color);\n",
              "    border-color: transparent;\n",
              "    border-bottom-color: var(--fill-color);\n",
              "    animation:\n",
              "      spin 1s steps(1) infinite;\n",
              "  }\n",
              "\n",
              "  @keyframes spin {\n",
              "    0% {\n",
              "      border-color: transparent;\n",
              "      border-bottom-color: var(--fill-color);\n",
              "      border-left-color: var(--fill-color);\n",
              "    }\n",
              "    20% {\n",
              "      border-color: transparent;\n",
              "      border-left-color: var(--fill-color);\n",
              "      border-top-color: var(--fill-color);\n",
              "    }\n",
              "    30% {\n",
              "      border-color: transparent;\n",
              "      border-left-color: var(--fill-color);\n",
              "      border-top-color: var(--fill-color);\n",
              "      border-right-color: var(--fill-color);\n",
              "    }\n",
              "    40% {\n",
              "      border-color: transparent;\n",
              "      border-right-color: var(--fill-color);\n",
              "      border-top-color: var(--fill-color);\n",
              "    }\n",
              "    60% {\n",
              "      border-color: transparent;\n",
              "      border-right-color: var(--fill-color);\n",
              "    }\n",
              "    80% {\n",
              "      border-color: transparent;\n",
              "      border-right-color: var(--fill-color);\n",
              "      border-bottom-color: var(--fill-color);\n",
              "    }\n",
              "    90% {\n",
              "      border-color: transparent;\n",
              "      border-bottom-color: var(--fill-color);\n",
              "    }\n",
              "  }\n",
              "</style>\n",
              "\n",
              "  <script>\n",
              "    async function quickchart(key) {\n",
              "      const quickchartButtonEl =\n",
              "        document.querySelector('#' + key + ' button');\n",
              "      quickchartButtonEl.disabled = true;  // To prevent multiple clicks.\n",
              "      quickchartButtonEl.classList.add('colab-df-spinner');\n",
              "      try {\n",
              "        const charts = await google.colab.kernel.invokeFunction(\n",
              "            'suggestCharts', [key], {});\n",
              "      } catch (error) {\n",
              "        console.error('Error during call to suggestCharts:', error);\n",
              "      }\n",
              "      quickchartButtonEl.classList.remove('colab-df-spinner');\n",
              "      quickchartButtonEl.classList.add('colab-df-quickchart-complete');\n",
              "    }\n",
              "    (() => {\n",
              "      let quickchartButtonEl =\n",
              "        document.querySelector('#df-25f7172d-26eb-47e6-a0f0-f4e4a5528a9c button');\n",
              "      quickchartButtonEl.style.display =\n",
              "        google.colab.kernel.accessAllowed ? 'block' : 'none';\n",
              "    })();\n",
              "  </script>\n",
              "</div>\n",
              "    </div>\n",
              "  </div>\n"
            ]
          },
          "metadata": {},
          "execution_count": 1
        }
      ],
      "source": [
        "import pandas as pd\n",
        "\n",
        "# Read the dataset\n",
        "data = pd.read_csv('diabetes.csv')\n",
        "data.head()"
      ]
    },
    {
      "cell_type": "code",
      "source": [
        "\"\"\"from sklearn.impute import SimpleImputer\n",
        "\n",
        "M_Var = SimpleImputer(missing_values= 0, strategy = 'mean')\n",
        "\n",
        "M_Var.fit(data)\n",
        "\n",
        "data_clean = M_Var.transform(data)\"\"\""
      ],
      "metadata": {
        "colab": {
          "base_uri": "https://localhost:8080/",
          "height": 53
        },
        "id": "7FL5VTypDI98",
        "outputId": "0de692e6-b86f-4682-f4fe-97e6e5849f50"
      },
      "execution_count": null,
      "outputs": [
        {
          "output_type": "execute_result",
          "data": {
            "text/plain": [
              "\"from sklearn.impute import SimpleImputer\\n\\nM_Var = SimpleImputer(missing_values= 0, strategy = 'mean')\\n\\nM_Var.fit(data)\\n\\ndata_clean = M_Var.transform(data)\""
            ],
            "application/vnd.google.colaboratory.intrinsic+json": {
              "type": "string"
            }
          },
          "metadata": {},
          "execution_count": 2
        }
      ]
    },
    {
      "cell_type": "code",
      "source": [
        "class_distribution = data['Outcome'].value_counts()\n",
        "\n",
        "# Display the class distribution\n",
        "print(class_distribution)"
      ],
      "metadata": {
        "colab": {
          "base_uri": "https://localhost:8080/"
        },
        "id": "5T7OYEzDOpaM",
        "outputId": "0afbbd0b-0000-44d2-bfbc-86013bb61a1a"
      },
      "execution_count": null,
      "outputs": [
        {
          "output_type": "stream",
          "name": "stdout",
          "text": [
            "0    500\n",
            "1    268\n",
            "Name: Outcome, dtype: int64\n"
          ]
        }
      ]
    },
    {
      "cell_type": "code",
      "source": [
        "\"\"\"data = pd.DataFrame(data_clean, columns=data.columns)\n",
        "data.head()\"\"\""
      ],
      "metadata": {
        "colab": {
          "base_uri": "https://localhost:8080/",
          "height": 36
        },
        "id": "8A5RqST9DTDc",
        "outputId": "16ab7a97-70ef-4561-ce01-bd2d41030bd0"
      },
      "execution_count": null,
      "outputs": [
        {
          "output_type": "execute_result",
          "data": {
            "text/plain": [
              "'data = pd.DataFrame(data_clean, columns=data.columns)\\ndata.head()'"
            ],
            "application/vnd.google.colaboratory.intrinsic+json": {
              "type": "string"
            }
          },
          "metadata": {},
          "execution_count": 4
        }
      ]
    },
    {
      "cell_type": "code",
      "execution_count": null,
      "metadata": {
        "id": "gRDzPDAUVEQi"
      },
      "outputs": [],
      "source": [
        "import numpy as np\n",
        "import pandas as pd\n",
        "from sklearn.model_selection import train_test_split\n",
        "from sklearn.preprocessing import StandardScaler\n",
        "from sklearn.metrics import accuracy_score\n",
        "from sklearn.neural_network import MLPClassifier\n",
        "import skfuzzy as fuzz\n",
        "from skfuzzy import control as ctrl\n",
        "from deap import base, creator, tools, algorithms\n",
        "import random"
      ]
    },
    {
      "cell_type": "code",
      "execution_count": null,
      "metadata": {
        "id": "siOX8vRH7fG9"
      },
      "outputs": [],
      "source": [
        "data = data[\n",
        "    (data['Glucose'] != 0) &\n",
        "    (data['BloodPressure'] != 0) &\n",
        "    (data['SkinThickness'] != 0) &\n",
        "    (data['Insulin'] != 0) &\n",
        "    (data['BMI'] != 0)\n",
        "]"
      ]
    },
    {
      "cell_type": "code",
      "source": [
        "class_distribution = data['Outcome'].value_counts()\n",
        "\n",
        "# Display the class distribution\n",
        "print(class_distribution)"
      ],
      "metadata": {
        "colab": {
          "base_uri": "https://localhost:8080/"
        },
        "id": "-xrSc3jTOu6k",
        "outputId": "c628ded5-7c48-4657-c7ac-58888b63829e"
      },
      "execution_count": null,
      "outputs": [
        {
          "output_type": "stream",
          "name": "stdout",
          "text": [
            "0    262\n",
            "1    130\n",
            "Name: Outcome, dtype: int64\n"
          ]
        }
      ]
    },
    {
      "cell_type": "code",
      "source": [
        "\"\"\"from sklearn.utils import resample\n",
        "\n",
        "# Assuming 'data' is your DataFrame\n",
        "# Separate majority and minority classes\n",
        "majority_class = data[data['Outcome'] == 0]\n",
        "minority_class = data[data['Outcome'] == 1]\n",
        "# Upsample the minority class\n",
        "minority_upsampled = resample(minority_class, replace=True, n_samples=len(majority_class), random_state=42)\n",
        "\n",
        "# Combine the upsampled minority class with the majority class\n",
        "data = pd.concat([majority_class, minority_upsampled])\n",
        "data.head()\"\"\""
      ],
      "metadata": {
        "colab": {
          "base_uri": "https://localhost:8080/",
          "height": 88
        },
        "id": "1bbGg48oO7ZO",
        "outputId": "b9a092d7-6cbf-4785-e8da-c964a72fc263"
      },
      "execution_count": null,
      "outputs": [
        {
          "output_type": "execute_result",
          "data": {
            "text/plain": [
              "\"from sklearn.utils import resample\\n\\n# Assuming 'data' is your DataFrame\\n# Separate majority and minority classes\\nmajority_class = data[data['Outcome'] == 0]\\nminority_class = data[data['Outcome'] == 1]\\n# Upsample the minority class\\nminority_upsampled = resample(minority_class, replace=True, n_samples=len(majority_class), random_state=42)\\n\\n# Combine the upsampled minority class with the majority class\\ndata = pd.concat([majority_class, minority_upsampled])\\ndata.head()\""
            ],
            "application/vnd.google.colaboratory.intrinsic+json": {
              "type": "string"
            }
          },
          "metadata": {},
          "execution_count": 8
        }
      ]
    },
    {
      "cell_type": "code",
      "execution_count": null,
      "metadata": {
        "colab": {
          "base_uri": "https://localhost:8080/",
          "height": 70
        },
        "id": "-MFhUjFK5GgZ",
        "outputId": "2f7ccdbc-3112-40cd-9711-64496bf0fb1a"
      },
      "outputs": [
        {
          "output_type": "execute_result",
          "data": {
            "text/plain": [
              "\"x = data.iloc[:,0:8]\\ny = data.iloc[:,8]\\n\\nfrom sklearn.model_selection import train_test_split\\n\\n\\nx_train, x_test, y_train, y_test = train_test_split(x,y, test_size = 0.35, train_size = 0.65,\\n                                                    random_state = 88, shuffle= True)\\n\\nx_train.info()\\nx_test.info()\\nprint('someeeeeeeeeeeeeeeeeeeeeeeeee')\\ny_train.info()\""
            ],
            "application/vnd.google.colaboratory.intrinsic+json": {
              "type": "string"
            }
          },
          "metadata": {},
          "execution_count": 9
        }
      ],
      "source": [
        "\"\"\"x = data.iloc[:,0:8]\n",
        "y = data.iloc[:,8]\n",
        "\n",
        "from sklearn.model_selection import train_test_split\n",
        "\n",
        "\n",
        "x_train, x_test, y_train, y_test = train_test_split(x,y, test_size = 0.35, train_size = 0.65,\n",
        "                                                    random_state = 88, shuffle= True)\n",
        "\n",
        "x_train.info()\n",
        "x_test.info()\n",
        "print('someeeeeeeeeeeeeeeeeeeeeeeeee')\n",
        "y_train.info()\"\"\""
      ]
    },
    {
      "cell_type": "code",
      "source": [
        "from sklearn.model_selection import StratifiedShuffleSplit\n",
        "\n",
        "x = data.iloc[:,0:8]\n",
        "y = data.iloc[:,8]\n",
        "# Assuming 'X' is your feature matrix and 'y' is your target variable\n",
        "sss = StratifiedShuffleSplit(n_splits=1, test_size=0.3, random_state=42)\n",
        "\n",
        "for train_index, test_index in sss.split(x, y):\n",
        "    x_train, x_test = x.iloc[train_index], x.iloc[test_index]\n",
        "    y_train, y_test = y.iloc[train_index], y.iloc[test_index]\n",
        "\n",
        "# Print the class distribution in the training and testing sets\n",
        "print(\"Training set class distribution:\\n\", y_train.value_counts())\n",
        "print(\"\\nTesting set class distribution:\\n\", y_test.value_counts())"
      ],
      "metadata": {
        "colab": {
          "base_uri": "https://localhost:8080/"
        },
        "id": "rW17Vz4eUwoi",
        "outputId": "f15ec074-362c-4c6a-955c-43bc3dbc7563"
      },
      "execution_count": null,
      "outputs": [
        {
          "output_type": "stream",
          "name": "stdout",
          "text": [
            "Training set class distribution:\n",
            " 0    183\n",
            "1     91\n",
            "Name: Outcome, dtype: int64\n",
            "\n",
            "Testing set class distribution:\n",
            " 0    79\n",
            "1    39\n",
            "Name: Outcome, dtype: int64\n"
          ]
        }
      ]
    },
    {
      "cell_type": "code",
      "source": [
        "from sklearn.preprocessing import StandardScaler\n",
        "import pandas as pd\n",
        "\n",
        "scaler = StandardScaler()\n",
        "data_scaled = scaler.fit_transform(x_train)\n",
        "\n",
        "x_train_combined = pd.DataFrame(data_scaled, columns=x_train.columns)\n",
        "x_train_combined.head()\n",
        "\n",
        "data_scaledd = scaler.fit_transform(x_test)\n",
        "\n",
        "x_test_combined = pd.DataFrame(data_scaledd, columns=x_test.columns)"
      ],
      "metadata": {
        "id": "roJOovc0QTnt"
      },
      "execution_count": null,
      "outputs": []
    },
    {
      "cell_type": "code",
      "source": [
        "classifier_combined = MLPClassifier(hidden_layer_sizes=(8, 4), max_iter=1000, random_state=1,alpha=11)\n",
        "classifier_combined.fit(x_train_combined, y_train)\n",
        "y_pred_combined_a = classifier_combined.predict(x_train_combined)\n",
        "accuracy_combined_a = accuracy_score(y_train, y_pred_combined_a)\n",
        "print(\"Accuracy of the Combined Model:\", accuracy_combined_a)\n",
        "    # Make predictions using the trained neural network\n",
        "y_pred_combined = classifier_combined.predict(x_test_combined)\n",
        "\n",
        "    # Evaluate the performance of the combined model\n",
        "accuracy_combined = accuracy_score(y_test, y_pred_combined)\n",
        "print(\"Accuracy of the Combined Model:\", accuracy_combined)"
      ],
      "metadata": {
        "colab": {
          "base_uri": "https://localhost:8080/"
        },
        "id": "G8PXsWX3MS9n",
        "outputId": "b7b4bda0-ac54-4e61-dccd-bc42de7a8831"
      },
      "execution_count": null,
      "outputs": [
        {
          "output_type": "stream",
          "name": "stdout",
          "text": [
            "Accuracy of the Combined Model: 0.791970802919708\n",
            "Accuracy of the Combined Model: 0.7966101694915254\n"
          ]
        }
      ]
    },
    {
      "cell_type": "code",
      "execution_count": null,
      "metadata": {
        "colab": {
          "base_uri": "https://localhost:8080/"
        },
        "id": "7SNM-TLq5igI",
        "outputId": "a5a3fef5-ab7e-439e-ed66-43e36686977c"
      },
      "outputs": [
        {
          "output_type": "stream",
          "name": "stdout",
          "text": [
            "Requirement already satisfied: scikit-fuzzy in /usr/local/lib/python3.10/dist-packages (0.4.2)\n",
            "Requirement already satisfied: numpy>=1.6.0 in /usr/local/lib/python3.10/dist-packages (from scikit-fuzzy) (1.23.5)\n",
            "Requirement already satisfied: scipy>=0.9.0 in /usr/local/lib/python3.10/dist-packages (from scikit-fuzzy) (1.11.3)\n",
            "Requirement already satisfied: networkx>=1.9.0 in /usr/local/lib/python3.10/dist-packages (from scikit-fuzzy) (3.2.1)\n"
          ]
        }
      ],
      "source": [
        "!pip install scikit-fuzzy"
      ]
    },
    {
      "cell_type": "code",
      "execution_count": null,
      "metadata": {
        "colab": {
          "base_uri": "https://localhost:8080/"
        },
        "id": "LO0_HjpH5oH-",
        "outputId": "16a59986-b094-42e1-cd87-677be5977acd"
      },
      "outputs": [
        {
          "output_type": "stream",
          "name": "stdout",
          "text": [
            "Requirement already satisfied: deap in /usr/local/lib/python3.10/dist-packages (1.4.1)\n",
            "Requirement already satisfied: numpy in /usr/local/lib/python3.10/dist-packages (from deap) (1.23.5)\n"
          ]
        }
      ],
      "source": [
        "!pip install deap"
      ]
    },
    {
      "cell_type": "code",
      "execution_count": null,
      "metadata": {
        "colab": {
          "base_uri": "https://localhost:8080/"
        },
        "id": "JY-Vi0At5tOK",
        "outputId": "55354ce8-1c44-4483-873b-f0704c922bdb"
      },
      "outputs": [
        {
          "output_type": "stream",
          "name": "stderr",
          "text": [
            "/usr/local/lib/python3.10/dist-packages/sklearn/neural_network/_multilayer_perceptron.py:686: ConvergenceWarning: Stochastic Optimizer: Maximum iterations (1000) reached and the optimization hasn't converged yet.\n",
            "  warnings.warn(\n",
            "/usr/local/lib/python3.10/dist-packages/sklearn/neural_network/_multilayer_perceptron.py:686: ConvergenceWarning: Stochastic Optimizer: Maximum iterations (1000) reached and the optimization hasn't converged yet.\n",
            "  warnings.warn(\n",
            "/usr/local/lib/python3.10/dist-packages/sklearn/neural_network/_multilayer_perceptron.py:686: ConvergenceWarning: Stochastic Optimizer: Maximum iterations (1000) reached and the optimization hasn't converged yet.\n",
            "  warnings.warn(\n",
            "/usr/local/lib/python3.10/dist-packages/sklearn/neural_network/_multilayer_perceptron.py:686: ConvergenceWarning: Stochastic Optimizer: Maximum iterations (1000) reached and the optimization hasn't converged yet.\n",
            "  warnings.warn(\n",
            "/usr/local/lib/python3.10/dist-packages/sklearn/neural_network/_multilayer_perceptron.py:686: ConvergenceWarning: Stochastic Optimizer: Maximum iterations (1000) reached and the optimization hasn't converged yet.\n",
            "  warnings.warn(\n",
            "/usr/local/lib/python3.10/dist-packages/sklearn/neural_network/_multilayer_perceptron.py:686: ConvergenceWarning: Stochastic Optimizer: Maximum iterations (1000) reached and the optimization hasn't converged yet.\n",
            "  warnings.warn(\n",
            "/usr/local/lib/python3.10/dist-packages/sklearn/neural_network/_multilayer_perceptron.py:686: ConvergenceWarning: Stochastic Optimizer: Maximum iterations (1000) reached and the optimization hasn't converged yet.\n",
            "  warnings.warn(\n",
            "/usr/local/lib/python3.10/dist-packages/sklearn/neural_network/_multilayer_perceptron.py:686: ConvergenceWarning: Stochastic Optimizer: Maximum iterations (1000) reached and the optimization hasn't converged yet.\n",
            "  warnings.warn(\n",
            "/usr/local/lib/python3.10/dist-packages/sklearn/neural_network/_multilayer_perceptron.py:686: ConvergenceWarning: Stochastic Optimizer: Maximum iterations (1000) reached and the optimization hasn't converged yet.\n",
            "  warnings.warn(\n",
            "/usr/local/lib/python3.10/dist-packages/sklearn/neural_network/_multilayer_perceptron.py:686: ConvergenceWarning: Stochastic Optimizer: Maximum iterations (1000) reached and the optimization hasn't converged yet.\n",
            "  warnings.warn(\n",
            "/usr/local/lib/python3.10/dist-packages/sklearn/neural_network/_multilayer_perceptron.py:686: ConvergenceWarning: Stochastic Optimizer: Maximum iterations (1000) reached and the optimization hasn't converged yet.\n",
            "  warnings.warn(\n",
            "/usr/local/lib/python3.10/dist-packages/sklearn/neural_network/_multilayer_perceptron.py:686: ConvergenceWarning: Stochastic Optimizer: Maximum iterations (1000) reached and the optimization hasn't converged yet.\n",
            "  warnings.warn(\n",
            "/usr/local/lib/python3.10/dist-packages/sklearn/neural_network/_multilayer_perceptron.py:686: ConvergenceWarning: Stochastic Optimizer: Maximum iterations (1000) reached and the optimization hasn't converged yet.\n",
            "  warnings.warn(\n",
            "/usr/local/lib/python3.10/dist-packages/sklearn/neural_network/_multilayer_perceptron.py:686: ConvergenceWarning: Stochastic Optimizer: Maximum iterations (1000) reached and the optimization hasn't converged yet.\n",
            "  warnings.warn(\n",
            "/usr/local/lib/python3.10/dist-packages/sklearn/neural_network/_multilayer_perceptron.py:686: ConvergenceWarning: Stochastic Optimizer: Maximum iterations (1000) reached and the optimization hasn't converged yet.\n",
            "  warnings.warn(\n",
            "/usr/local/lib/python3.10/dist-packages/sklearn/neural_network/_multilayer_perceptron.py:686: ConvergenceWarning: Stochastic Optimizer: Maximum iterations (1000) reached and the optimization hasn't converged yet.\n",
            "  warnings.warn(\n",
            "/usr/local/lib/python3.10/dist-packages/sklearn/neural_network/_multilayer_perceptron.py:686: ConvergenceWarning: Stochastic Optimizer: Maximum iterations (1000) reached and the optimization hasn't converged yet.\n",
            "  warnings.warn(\n",
            "/usr/local/lib/python3.10/dist-packages/sklearn/neural_network/_multilayer_perceptron.py:686: ConvergenceWarning: Stochastic Optimizer: Maximum iterations (1000) reached and the optimization hasn't converged yet.\n",
            "  warnings.warn(\n",
            "/usr/local/lib/python3.10/dist-packages/sklearn/neural_network/_multilayer_perceptron.py:686: ConvergenceWarning: Stochastic Optimizer: Maximum iterations (1000) reached and the optimization hasn't converged yet.\n",
            "  warnings.warn(\n",
            "/usr/local/lib/python3.10/dist-packages/sklearn/neural_network/_multilayer_perceptron.py:686: ConvergenceWarning: Stochastic Optimizer: Maximum iterations (1000) reached and the optimization hasn't converged yet.\n",
            "  warnings.warn(\n",
            "/usr/local/lib/python3.10/dist-packages/sklearn/neural_network/_multilayer_perceptron.py:686: ConvergenceWarning: Stochastic Optimizer: Maximum iterations (1000) reached and the optimization hasn't converged yet.\n",
            "  warnings.warn(\n",
            "/usr/local/lib/python3.10/dist-packages/sklearn/neural_network/_multilayer_perceptron.py:686: ConvergenceWarning: Stochastic Optimizer: Maximum iterations (1000) reached and the optimization hasn't converged yet.\n",
            "  warnings.warn(\n",
            "/usr/local/lib/python3.10/dist-packages/sklearn/neural_network/_multilayer_perceptron.py:686: ConvergenceWarning: Stochastic Optimizer: Maximum iterations (1000) reached and the optimization hasn't converged yet.\n",
            "  warnings.warn(\n",
            "/usr/local/lib/python3.10/dist-packages/sklearn/neural_network/_multilayer_perceptron.py:686: ConvergenceWarning: Stochastic Optimizer: Maximum iterations (1000) reached and the optimization hasn't converged yet.\n",
            "  warnings.warn(\n",
            "/usr/local/lib/python3.10/dist-packages/sklearn/neural_network/_multilayer_perceptron.py:686: ConvergenceWarning: Stochastic Optimizer: Maximum iterations (1000) reached and the optimization hasn't converged yet.\n",
            "  warnings.warn(\n",
            "/usr/local/lib/python3.10/dist-packages/sklearn/neural_network/_multilayer_perceptron.py:686: ConvergenceWarning: Stochastic Optimizer: Maximum iterations (1000) reached and the optimization hasn't converged yet.\n",
            "  warnings.warn(\n",
            "/usr/local/lib/python3.10/dist-packages/sklearn/neural_network/_multilayer_perceptron.py:686: ConvergenceWarning: Stochastic Optimizer: Maximum iterations (1000) reached and the optimization hasn't converged yet.\n",
            "  warnings.warn(\n",
            "/usr/local/lib/python3.10/dist-packages/sklearn/neural_network/_multilayer_perceptron.py:686: ConvergenceWarning: Stochastic Optimizer: Maximum iterations (1000) reached and the optimization hasn't converged yet.\n",
            "  warnings.warn(\n",
            "/usr/local/lib/python3.10/dist-packages/sklearn/neural_network/_multilayer_perceptron.py:686: ConvergenceWarning: Stochastic Optimizer: Maximum iterations (1000) reached and the optimization hasn't converged yet.\n",
            "  warnings.warn(\n",
            "/usr/local/lib/python3.10/dist-packages/sklearn/neural_network/_multilayer_perceptron.py:686: ConvergenceWarning: Stochastic Optimizer: Maximum iterations (1000) reached and the optimization hasn't converged yet.\n",
            "  warnings.warn(\n",
            "/usr/local/lib/python3.10/dist-packages/sklearn/neural_network/_multilayer_perceptron.py:686: ConvergenceWarning: Stochastic Optimizer: Maximum iterations (1000) reached and the optimization hasn't converged yet.\n",
            "  warnings.warn(\n",
            "/usr/local/lib/python3.10/dist-packages/sklearn/neural_network/_multilayer_perceptron.py:686: ConvergenceWarning: Stochastic Optimizer: Maximum iterations (1000) reached and the optimization hasn't converged yet.\n",
            "  warnings.warn(\n",
            "/usr/local/lib/python3.10/dist-packages/sklearn/neural_network/_multilayer_perceptron.py:686: ConvergenceWarning: Stochastic Optimizer: Maximum iterations (1000) reached and the optimization hasn't converged yet.\n",
            "  warnings.warn(\n",
            "/usr/local/lib/python3.10/dist-packages/sklearn/neural_network/_multilayer_perceptron.py:686: ConvergenceWarning: Stochastic Optimizer: Maximum iterations (1000) reached and the optimization hasn't converged yet.\n",
            "  warnings.warn(\n",
            "/usr/local/lib/python3.10/dist-packages/sklearn/neural_network/_multilayer_perceptron.py:686: ConvergenceWarning: Stochastic Optimizer: Maximum iterations (1000) reached and the optimization hasn't converged yet.\n",
            "  warnings.warn(\n",
            "/usr/local/lib/python3.10/dist-packages/sklearn/neural_network/_multilayer_perceptron.py:686: ConvergenceWarning: Stochastic Optimizer: Maximum iterations (1000) reached and the optimization hasn't converged yet.\n",
            "  warnings.warn(\n",
            "/usr/local/lib/python3.10/dist-packages/sklearn/neural_network/_multilayer_perceptron.py:686: ConvergenceWarning: Stochastic Optimizer: Maximum iterations (1000) reached and the optimization hasn't converged yet.\n",
            "  warnings.warn(\n",
            "/usr/local/lib/python3.10/dist-packages/sklearn/neural_network/_multilayer_perceptron.py:686: ConvergenceWarning: Stochastic Optimizer: Maximum iterations (1000) reached and the optimization hasn't converged yet.\n",
            "  warnings.warn(\n",
            "/usr/local/lib/python3.10/dist-packages/sklearn/neural_network/_multilayer_perceptron.py:686: ConvergenceWarning: Stochastic Optimizer: Maximum iterations (1000) reached and the optimization hasn't converged yet.\n",
            "  warnings.warn(\n",
            "/usr/local/lib/python3.10/dist-packages/sklearn/neural_network/_multilayer_perceptron.py:686: ConvergenceWarning: Stochastic Optimizer: Maximum iterations (1000) reached and the optimization hasn't converged yet.\n",
            "  warnings.warn(\n",
            "/usr/local/lib/python3.10/dist-packages/sklearn/neural_network/_multilayer_perceptron.py:686: ConvergenceWarning: Stochastic Optimizer: Maximum iterations (1000) reached and the optimization hasn't converged yet.\n",
            "  warnings.warn(\n",
            "/usr/local/lib/python3.10/dist-packages/sklearn/neural_network/_multilayer_perceptron.py:686: ConvergenceWarning: Stochastic Optimizer: Maximum iterations (1000) reached and the optimization hasn't converged yet.\n",
            "  warnings.warn(\n",
            "/usr/local/lib/python3.10/dist-packages/sklearn/neural_network/_multilayer_perceptron.py:686: ConvergenceWarning: Stochastic Optimizer: Maximum iterations (1000) reached and the optimization hasn't converged yet.\n",
            "  warnings.warn(\n",
            "/usr/local/lib/python3.10/dist-packages/sklearn/neural_network/_multilayer_perceptron.py:686: ConvergenceWarning: Stochastic Optimizer: Maximum iterations (1000) reached and the optimization hasn't converged yet.\n",
            "  warnings.warn(\n",
            "/usr/local/lib/python3.10/dist-packages/sklearn/neural_network/_multilayer_perceptron.py:686: ConvergenceWarning: Stochastic Optimizer: Maximum iterations (1000) reached and the optimization hasn't converged yet.\n",
            "  warnings.warn(\n",
            "/usr/local/lib/python3.10/dist-packages/sklearn/neural_network/_multilayer_perceptron.py:686: ConvergenceWarning: Stochastic Optimizer: Maximum iterations (1000) reached and the optimization hasn't converged yet.\n",
            "  warnings.warn(\n",
            "/usr/local/lib/python3.10/dist-packages/sklearn/neural_network/_multilayer_perceptron.py:686: ConvergenceWarning: Stochastic Optimizer: Maximum iterations (1000) reached and the optimization hasn't converged yet.\n",
            "  warnings.warn(\n",
            "/usr/local/lib/python3.10/dist-packages/sklearn/neural_network/_multilayer_perceptron.py:686: ConvergenceWarning: Stochastic Optimizer: Maximum iterations (1000) reached and the optimization hasn't converged yet.\n",
            "  warnings.warn(\n",
            "/usr/local/lib/python3.10/dist-packages/sklearn/neural_network/_multilayer_perceptron.py:686: ConvergenceWarning: Stochastic Optimizer: Maximum iterations (1000) reached and the optimization hasn't converged yet.\n",
            "  warnings.warn(\n",
            "/usr/local/lib/python3.10/dist-packages/sklearn/neural_network/_multilayer_perceptron.py:686: ConvergenceWarning: Stochastic Optimizer: Maximum iterations (1000) reached and the optimization hasn't converged yet.\n",
            "  warnings.warn(\n",
            "/usr/local/lib/python3.10/dist-packages/sklearn/neural_network/_multilayer_perceptron.py:686: ConvergenceWarning: Stochastic Optimizer: Maximum iterations (1000) reached and the optimization hasn't converged yet.\n",
            "  warnings.warn(\n",
            "/usr/local/lib/python3.10/dist-packages/sklearn/neural_network/_multilayer_perceptron.py:686: ConvergenceWarning: Stochastic Optimizer: Maximum iterations (1000) reached and the optimization hasn't converged yet.\n",
            "  warnings.warn(\n",
            "/usr/local/lib/python3.10/dist-packages/sklearn/neural_network/_multilayer_perceptron.py:686: ConvergenceWarning: Stochastic Optimizer: Maximum iterations (1000) reached and the optimization hasn't converged yet.\n",
            "  warnings.warn(\n",
            "/usr/local/lib/python3.10/dist-packages/sklearn/neural_network/_multilayer_perceptron.py:686: ConvergenceWarning: Stochastic Optimizer: Maximum iterations (1000) reached and the optimization hasn't converged yet.\n",
            "  warnings.warn(\n",
            "/usr/local/lib/python3.10/dist-packages/sklearn/neural_network/_multilayer_perceptron.py:686: ConvergenceWarning: Stochastic Optimizer: Maximum iterations (1000) reached and the optimization hasn't converged yet.\n",
            "  warnings.warn(\n",
            "/usr/local/lib/python3.10/dist-packages/sklearn/neural_network/_multilayer_perceptron.py:686: ConvergenceWarning: Stochastic Optimizer: Maximum iterations (1000) reached and the optimization hasn't converged yet.\n",
            "  warnings.warn(\n"
          ]
        },
        {
          "output_type": "stream",
          "name": "stdout",
          "text": [
            "Best selected features: [0, 1, 2, 3, 5, 7]\n",
            "Accuracy of the best individual: 0.8220338983050848\n",
            "Accuracy ll: (0.7457627118644068,)\n"
          ]
        }
      ],
      "source": [
        "# Step 4: Implement Genetic Feature Selection\n",
        "import pandas as pd\n",
        "import numpy as np\n",
        "from sklearn.model_selection import train_test_split\n",
        "from sklearn.preprocessing import StandardScaler\n",
        "from sklearn.metrics import accuracy_score, classification_report\n",
        "from sklearn.neural_network import MLPClassifier\n",
        "#import skfuzzy as fuzz\n",
        "#from skfuzzy import control as ctrl\n",
        "from deap import base, creator, tools, algorithms\n",
        "import random\n",
        "\n",
        "\n",
        "\n",
        "# Step 4: Implement Genetic Feature Selection\n",
        "\n",
        "# Define the evaluation function for the genetic algorithm\n",
        "def evaluate(features):\n",
        "    selected_features = [i for i in range(len(features)) if features[i] == 1]\n",
        "    x_train_subset = x_train_combined.iloc[:, selected_features]\n",
        "    x_test_subset = x_test_combined.iloc[:, selected_features]\n",
        "\n",
        "    # Train and evaluate the classifier (you can use your own GNFS model)\n",
        "    classifier = MLPClassifier(hidden_layer_sizes=(8, 4), max_iter=1000, random_state=1)\n",
        "    classifier.fit(x_train_subset, y_train)\n",
        "    y_pred = classifier.predict(x_test_subset)\n",
        "    return accuracy_score(y_test, y_pred),\n",
        "\n",
        "# Define genetic algorithm parameters and functions\n",
        "creator.create(\"FitnessMax\", base.Fitness, weights=(1.0,))\n",
        "creator.create(\"Individual\", list, fitness=creator.FitnessMax)\n",
        "\n",
        "toolbox = base.Toolbox()\n",
        "toolbox.register(\"attr_bool\", random.randint, 0, 1)\n",
        "toolbox.register(\"individual\", tools.initRepeat, creator.Individual, toolbox.attr_bool, n=8)\n",
        "toolbox.register(\"population\", tools.initRepeat, list, toolbox.individual)\n",
        "toolbox.register(\"evaluate\", evaluate)\n",
        "toolbox.register(\"mate\", tools.cxTwoPoint)\n",
        "toolbox.register(\"mutate\", tools.mutFlipBit, indpb=0.05)\n",
        "toolbox.register(\"select\", tools.selTournament, tournsize=3)\n",
        "\n",
        "if __name__ == \"__main__\":\n",
        "    population_size = 20\n",
        "    generations = 6\n",
        "\n",
        "    # Create an initial population of feature subsets\n",
        "    population = toolbox.population(n=population_size)\n",
        "\n",
        "        # Initialize a variable to store the best individual found so far\n",
        "    best_individual = None\n",
        "    best_accuracy = 0.0  # Initialize with a low value\n",
        "\n",
        "    # Evaluate the entire population\n",
        "    fitnesses = list(map(toolbox.evaluate, population))\n",
        "    for ind, fit in zip(population, fitnesses):\n",
        "        ind.fitness.values = fit\n",
        "\n",
        "\n",
        "\n",
        "    # Perform the genetic algorithm\n",
        "    for gen in range(generations):\n",
        "        offspring = algorithms.varAnd(population, toolbox, cxpb=0.7, mutpb=0.2)\n",
        "        fitnesses = list(map(toolbox.evaluate, offspring))\n",
        "        for ind, fit in zip(offspring, fitnesses):\n",
        "            ind.fitness.values = fit\n",
        "\n",
        "        population = toolbox.select(offspring, k=len(population))\n",
        "\n",
        "    # Get the best individual (feature subset)\n",
        "    best_individual = tools.selBest(population, k=1)[0]\n",
        "    selected_features = [i for i in range(len(best_individual)) if best_individual[i] == 1]\n",
        "\n",
        "    # Calculate accuracy for the best individual\n",
        "    best_accuracy = evaluate(best_individual)[0]\n",
        "\n",
        "    print(\"Best selected features:\", selected_features)\n",
        "    print(\"Accuracy of the best individual:\", best_accuracy)\n",
        "    print(\"Accuracy ll:\", evaluate(selected_features))"
      ]
    },
    {
      "cell_type": "code",
      "execution_count": null,
      "metadata": {
        "colab": {
          "base_uri": "https://localhost:8080/"
        },
        "id": "uW0dbREGvEAv",
        "outputId": "c85446c6-e4d5-4265-b1ca-5297ea2cfb7f"
      },
      "outputs": [
        {
          "output_type": "stream",
          "name": "stdout",
          "text": [
            "[1, 1, 1, 1, 0, 1, 0, 1]\n"
          ]
        }
      ],
      "source": [
        "print(best_individual)"
      ]
    },
    {
      "cell_type": "code",
      "execution_count": null,
      "metadata": {
        "colab": {
          "base_uri": "https://localhost:8080/"
        },
        "id": "7-OfXBDT66W3",
        "outputId": "76cceac0-029e-4b05-bd1a-7a11a0c9f60b"
      },
      "outputs": [
        {
          "output_type": "stream",
          "name": "stdout",
          "text": [
            "(0.7457627118644068,)\n"
          ]
        }
      ],
      "source": [
        "print(evaluate(selected_features))"
      ]
    },
    {
      "cell_type": "code",
      "execution_count": null,
      "metadata": {
        "id": "l-AWWnLV8P2G"
      },
      "outputs": [],
      "source": [
        "import skfuzzy as fuzz\n",
        "from skfuzzy import control as ctrl\n",
        "import numpy as np\n",
        "import matplotlib.pyplot as plt"
      ]
    },
    {
      "cell_type": "code",
      "execution_count": null,
      "metadata": {
        "id": "s7GxlXoZ7nB2"
      },
      "outputs": [],
      "source": [
        "#Define fuzzy sets\n",
        "\n",
        "def pregnanciesT(pregnancies:ctrl.Antecedent):\n",
        "  pregnancies['low'] = fuzz.trimf(pregnancies.universe,[0, 0.475, 7.213])\n",
        "  pregnancies['medium'] = fuzz.trimf(pregnancies.universe,[0.475, 7.213, 12.1])\n",
        "  pregnancies['high'] = fuzz.trimf(pregnancies.universe,[7.213, 12.1, 17])\n",
        "\n",
        "def glucoseT(glucose: ctrl.Antecedent):\n",
        "    glucose['low'] = fuzz.trimf(glucose.universe, [0, 88.84, 152.6])\n",
        "    glucose['medium'] = fuzz.trimf(glucose.universe, [88.84, 152.6, 175.8])\n",
        "    glucose['high'] = fuzz.trimf(glucose.universe, [152.6, 175.8, 199])\n",
        "\n",
        "def bloodPressureT(bloodPressure: ctrl.Antecedent):\n",
        "    bloodPressure['low']=fuzz.trimf(bloodPressure.universe,[0,49.73,88.44])\n",
        "    bloodPressure['medium'] =fuzz.trimf(bloodPressure.universe,[49.73,88.44,105.2])\n",
        "    bloodPressure['high'] =fuzz.trimf(bloodPressure.universe,[88.44,105.2,122])\n",
        "\n",
        "def skinThicknessT(skinThickness: ctrl.Antecedent):\n",
        "    skinThickness['good'] =fuzz.trimf(skinThickness.universe,[0,4.584,36.49])\n",
        "    skinThickness['average'] =fuzz.trimf(skinThickness.universe,[4.584,36.49,67.74])\n",
        "    skinThickness['below'] =fuzz.trimf(skinThickness.universe,[36.49,67.74,99])\n",
        "\n",
        "def insulinT(insulin: ctrl.Antecedent):\n",
        "    insulin['low'] =fuzz.trimf(insulin.universe,[0,35.44,195])\n",
        "    insulin['medium'] =fuzz.trimf(insulin.universe,[35.44,195,520.5])\n",
        "    insulin['high'] =fuzz.trimf(insulin.universe,[195,520.5,846])\n",
        "\n",
        "def bmiT(bmi: ctrl.Antecedent):\n",
        "    bmi['low'] =fuzz.trimf(bmi.universe,[0,24.11,39.87])\n",
        "    bmi['medium'] =fuzz.trimf(bmi.universe,[24.11,39.87,53.49])\n",
        "    bmi['high'] =fuzz.trimf(bmi.universe,[39.87,53.49,67.1])\n",
        "\n",
        "def pedigreeT(pedigree: ctrl.Antecedent):\n",
        "    pedigree['low'] =fuzz.trimf(pedigree.universe,[0.078,0.1405,0.8032])\n",
        "    pedigree['medium'] =fuzz.trimf(pedigree.universe,[0.1405,0.8032,1.612])\n",
        "    pedigree['high'] =fuzz.trimf(pedigree.universe,[0.8032,1.612,2.42])\n",
        "\n",
        "def ageT(age: ctrl.Antecedent):\n",
        "    age['low'] =fuzz.trimf(age.universe,[21,21.48,45])\n",
        "    age['medium'] =fuzz.trimf(age.universe,[21.48,45,63])\n",
        "    age['high'] =fuzz.trimf(age.universe,[45,63,81])\n",
        "\n",
        "def outcomeT(outcome: ctrl.Antecedent):\n",
        "    outcome['low'] =fuzz.trimf(outcome.universe,[0,0.25,0.45])\n",
        "    outcome['medium'] =fuzz.trimf(outcome.universe,[0.35,0.55,0.75])\n",
        "    outcome['high'] =fuzz.trimf(outcome.universe,[0.65,0.85,1])\n"
      ]
    },
    {
      "cell_type": "code",
      "execution_count": null,
      "metadata": {
        "colab": {
          "base_uri": "https://localhost:8080/",
          "height": 140
        },
        "id": "DHEnWyrn8ZCX",
        "outputId": "bcaeaad7-a95f-4618-c5f7-28afbc7693f3"
      },
      "outputs": [
        {
          "output_type": "execute_result",
          "data": {
            "text/plain": [
              "\"def buildRules(\\n    pregnancies:ctrl.Antecedent,\\n    glucose: ctrl.Antecedent,\\n    skinThickness: ctrl.Antecedent,\\n    insulin: ctrl.Antecedent,\\n    pedigree: ctrl.Antecedent,\\n    outcome: ctrl.Antecedent,\\n):\\n    return [\\n        ctrl.Rule(pregnancies['low'] | glucose['low'] | skinThickness['good'] | insulin['low']\\n                  | pedigree['low']\\n                  ,outcome['low']),\\n\\n        ctrl.Rule(pregnancies['medium'] | glucose['medium'] | skinThickness['average'] | insulin['medium']\\n                  | pedigree['medium']\\n                  ,outcome['medium']),\\n\\n        ctrl.Rule(pregnancies['high'] | glucose['high'] | skinThickness['below'] | insulin['high']\\n                  | pedigree['high']\\n                  ,outcome['high']),\\n\\n\\n        ctrl.Rule(pregnancies['high'] | glucose['high']  | skinThickness['below'] | insulin['high']\\n                  | pedigree['high']\\n                  ,outcome['medium']),\\n\\n\\n         ctrl.Rule(glucose['medium'] | (pregnancies['high'] | skinThickness['below'] | insulin['high']\\n                  | pedigree['high'])\\n                  ,outcome['medium']),\\n\\n        ctrl.Rule(pregnancies['low'] | glucose['high'] | skinThickness['good'] | insulin['low']\\n                  | pedigree['low']\\n                  ,outcome['low']),\\n\\n\\n\\n        ctrl.Rule(pregnancies['low'] | glucose['high'] | skinThickness['good'] | insulin['low']\\n                  | pedigree['low']\\n                  ,outcome['low']),\\n\\n\\n        ctrl.Rule(pregnancies['low'] | glucose['medium'] | skinThickness['good'] | insulin['low']\\n                  | pedigree['low']\\n                  ,outcome['low']),\\n\\n\\n        ctrl.Rule(pregnancies['medium'] | glucose['high']  | skinThickness['average'] | insulin['medium']\\n                  | pedigree['medium']\\n                  ,outcome['medium']),\\n\\n\\n        ctrl.Rule(pregnancies['medium'] | glucose['medium'] | skinThickness['average'] | insulin['medium']\\n                  | pedigree['medium']\\n                  ,outcome['medium']),\\n\\n\\n        ctrl.Rule(pregnancies['high'] | glucose['medium']  | skinThickness['average'] | insulin['medium']\\n                  | pedigree['medium']\\n                  ,outcome['medium']),\\n\\n\\n        ctrl.Rule(pregnancies['medium'] | glucose['medium'] | skinThickness['below'] | insulin['medium']\\n                  | pedigree['medium']\\n                  ,outcome['medium']),\\n\\n\\n        ctrl.Rule(pregnancies['medium'] | glucose['medium']  | skinThickness['average'] | insulin['high']\\n                   | pedigree['medium']\\n                  ,outcome['medium']),\\n\\n\\n        ctrl.Rule(pregnancies['medium'] | glucose['medium'] | skinThickness['average'] | insulin['medium']\\n                   | pedigree['medium']\\n                  ,outcome['medium']),\\n\\n\\n        ctrl.Rule(pregnancies['medium'] | glucose['medium']  | skinThickness['average'] | insulin['medium']\\n                   | pedigree['high']\\n                  ,outcome['medium']),\\n\\n\\n        ctrl.Rule(pregnancies['medium'] | glucose['medium'] | skinThickness['average'] | insulin['medium']\\n                   | pedigree['medium']\\n                  ,outcome['medium']),\\n\\n\\n    ]\""
            ],
            "application/vnd.google.colaboratory.intrinsic+json": {
              "type": "string"
            }
          },
          "metadata": {},
          "execution_count": 20
        }
      ],
      "source": [
        "#Define fuzzy\n",
        "\"\"\"def buildRules(\n",
        "    pregnancies:ctrl.Antecedent,\n",
        "    glucose: ctrl.Antecedent,\n",
        "    skinThickness: ctrl.Antecedent,\n",
        "    insulin: ctrl.Antecedent,\n",
        "    pedigree: ctrl.Antecedent,\n",
        "    outcome: ctrl.Antecedent,\n",
        "):\n",
        "    return [\n",
        "        ctrl.Rule(pregnancies['low'] | glucose['low'] | skinThickness['good'] | insulin['low']\n",
        "                  | pedigree['low']\n",
        "                  ,outcome['low']),\n",
        "\n",
        "        ctrl.Rule(pregnancies['medium'] | glucose['medium'] | skinThickness['average'] | insulin['medium']\n",
        "                  | pedigree['medium']\n",
        "                  ,outcome['medium']),\n",
        "\n",
        "        ctrl.Rule(pregnancies['high'] | glucose['high'] | skinThickness['below'] | insulin['high']\n",
        "                  | pedigree['high']\n",
        "                  ,outcome['high']),\n",
        "\n",
        "\n",
        "        ctrl.Rule(pregnancies['high'] | glucose['high']  | skinThickness['below'] | insulin['high']\n",
        "                  | pedigree['high']\n",
        "                  ,outcome['medium']),\n",
        "\n",
        "\n",
        "         ctrl.Rule(glucose['medium'] | (pregnancies['high'] | skinThickness['below'] | insulin['high']\n",
        "                  | pedigree['high'])\n",
        "                  ,outcome['medium']),\n",
        "\n",
        "        ctrl.Rule(pregnancies['low'] | glucose['high'] | skinThickness['good'] | insulin['low']\n",
        "                  | pedigree['low']\n",
        "                  ,outcome['low']),\n",
        "\n",
        "\n",
        "\n",
        "        ctrl.Rule(pregnancies['low'] | glucose['high'] | skinThickness['good'] | insulin['low']\n",
        "                  | pedigree['low']\n",
        "                  ,outcome['low']),\n",
        "\n",
        "\n",
        "        ctrl.Rule(pregnancies['low'] | glucose['medium'] | skinThickness['good'] | insulin['low']\n",
        "                  | pedigree['low']\n",
        "                  ,outcome['low']),\n",
        "\n",
        "\n",
        "        ctrl.Rule(pregnancies['medium'] | glucose['high']  | skinThickness['average'] | insulin['medium']\n",
        "                  | pedigree['medium']\n",
        "                  ,outcome['medium']),\n",
        "\n",
        "\n",
        "        ctrl.Rule(pregnancies['medium'] | glucose['medium'] | skinThickness['average'] | insulin['medium']\n",
        "                  | pedigree['medium']\n",
        "                  ,outcome['medium']),\n",
        "\n",
        "\n",
        "        ctrl.Rule(pregnancies['high'] | glucose['medium']  | skinThickness['average'] | insulin['medium']\n",
        "                  | pedigree['medium']\n",
        "                  ,outcome['medium']),\n",
        "\n",
        "\n",
        "        ctrl.Rule(pregnancies['medium'] | glucose['medium'] | skinThickness['below'] | insulin['medium']\n",
        "                  | pedigree['medium']\n",
        "                  ,outcome['medium']),\n",
        "\n",
        "\n",
        "        ctrl.Rule(pregnancies['medium'] | glucose['medium']  | skinThickness['average'] | insulin['high']\n",
        "                   | pedigree['medium']\n",
        "                  ,outcome['medium']),\n",
        "\n",
        "\n",
        "        ctrl.Rule(pregnancies['medium'] | glucose['medium'] | skinThickness['average'] | insulin['medium']\n",
        "                   | pedigree['medium']\n",
        "                  ,outcome['medium']),\n",
        "\n",
        "\n",
        "        ctrl.Rule(pregnancies['medium'] | glucose['medium']  | skinThickness['average'] | insulin['medium']\n",
        "                   | pedigree['high']\n",
        "                  ,outcome['medium']),\n",
        "\n",
        "\n",
        "        ctrl.Rule(pregnancies['medium'] | glucose['medium'] | skinThickness['average'] | insulin['medium']\n",
        "                   | pedigree['medium']\n",
        "                  ,outcome['medium']),\n",
        "\n",
        "\n",
        "    ]\"\"\""
      ]
    },
    {
      "cell_type": "code",
      "execution_count": null,
      "metadata": {
        "id": "qgOjb72T_e-9"
      },
      "outputs": [],
      "source": [
        "#Define fuzzy rules\n",
        "def buildRules(\n",
        "\n",
        "\n",
        "    glucose: ctrl.Antecedent,\n",
        "    bloodPressure: ctrl.Antecedent,\n",
        "    skinThickness: ctrl.Antecedent,\n",
        "    bmi: ctrl.Antecedent,\n",
        "    pedigree: ctrl.Antecedent,\n",
        "    outcome: ctrl.Antecedent,\n",
        "):\n",
        "    return [\n",
        "        ctrl.Rule( glucose['low'] | bloodPressure['low'] | skinThickness['good'] |  bmi['low']\n",
        "                  | pedigree['low']\n",
        "                  ,outcome['low']),\n",
        "\n",
        "        ctrl.Rule( glucose['medium'] | bloodPressure['medium'] | skinThickness['average']\n",
        "                  | bmi['medium'] | pedigree['medium']\n",
        "                  ,outcome['medium']),\n",
        "\n",
        "        ctrl.Rule(glucose['high'] | bloodPressure['high'] | skinThickness['below'] | bmi['high']\n",
        "                  | pedigree['high']\n",
        "                  ,outcome['high']),\n",
        "\n",
        "\n",
        "        ctrl.Rule( glucose['high'] | bloodPressure['medium'] | skinThickness['below'] |  bmi['high']\n",
        "                  | pedigree['high']\n",
        "                  ,outcome['medium']),\n",
        "\n",
        "\n",
        "         ctrl.Rule( glucose['medium'] | bloodPressure['high'] | skinThickness['below'] | bmi['high']\n",
        "                  | pedigree['high']\n",
        "                  ,outcome['medium']),\n",
        "\n",
        "        ctrl.Rule( glucose['high'] | bloodPressure['high'] | skinThickness['good'] |  bmi['low']\n",
        "                  | pedigree['low']\n",
        "                  ,outcome['low']),\n",
        "\n",
        "\n",
        "\n",
        "        ctrl.Rule( glucose['high'] | bloodPressure['medium'] | skinThickness['good'] | bmi['low']\n",
        "                  | pedigree['low']\n",
        "                  ,outcome['low']),\n",
        "\n",
        "\n",
        "        ctrl.Rule( glucose['medium'] | bloodPressure['high'] | skinThickness['good'] |bmi['low']\n",
        "                  | pedigree['low']\n",
        "                  ,outcome['low']),\n",
        "\n",
        "\n",
        "        ctrl.Rule(glucose['high'] | bloodPressure['medium'] | skinThickness['average']\n",
        "                  | bmi['medium'] | pedigree['medium']\n",
        "                  ,outcome['medium']),\n",
        "\n",
        "\n",
        "        ctrl.Rule( glucose['medium'] | bloodPressure['high'] | skinThickness['average']\n",
        "                  | bmi['medium'] | pedigree['medium']\n",
        "                  ,outcome['medium']),\n",
        "\n",
        "\n",
        "        ctrl.Rule( glucose['medium'] | bloodPressure['medium'] | skinThickness['average']\n",
        "                  | bmi['medium'] | pedigree['medium'] ,outcome['medium']\n",
        "        ),\n",
        "\n",
        "        ctrl.Rule( glucose['medium'] | bloodPressure['medium'] | skinThickness['below']\n",
        "                  | bmi['medium'] | pedigree['medium']\n",
        "                  ,outcome['medium']),\n",
        "\n",
        "\n",
        "        ctrl.Rule( glucose['medium'] | bloodPressure['medium'] | skinThickness['average']\n",
        "                  | bmi['medium'] | pedigree['medium']\n",
        "                  ,outcome['medium']),\n",
        "\n",
        "\n",
        "        ctrl.Rule( glucose['medium'] | bloodPressure['medium'] | skinThickness['average']\n",
        "                  | bmi['high'] | pedigree['medium']\n",
        "                  ,outcome['medium']),\n",
        "\n",
        "\n",
        "        ctrl.Rule( glucose['medium'] | bloodPressure['medium'] | skinThickness['average']\n",
        "                  | bmi['medium'] | pedigree['high']\n",
        "                  ,outcome['medium']),\n",
        "\n",
        "\n",
        "        ctrl.Rule( glucose['medium'] | bloodPressure['medium'] | skinThickness['average']\n",
        "                  | bmi['medium'] | pedigree['medium']\n",
        "                  ,outcome['medium']),\n",
        "\n",
        "\n",
        "    ]"
      ]
    },
    {
      "cell_type": "code",
      "execution_count": null,
      "metadata": {
        "id": "KEOA9mBKwCo3",
        "colab": {
          "base_uri": "https://localhost:8080/",
          "height": 157
        },
        "outputId": "64904485-27ba-40f4-942f-f266adaa47f9"
      },
      "outputs": [
        {
          "output_type": "execute_result",
          "data": {
            "text/plain": [
              "\"def buildRules(\\n\\n    pregnancies:ctrl.Antecedent,\\n    glucose: ctrl.Antecedent,\\n    bloodPressure: ctrl.Antecedent,\\n    skinThickness: ctrl.Antecedent,\\n    insulin: ctrl.Antecedent,\\n\\n    age: ctrl.Antecedent,\\n    outcome: ctrl.Antecedent,\\n):\\n    return [\\n        ctrl.Rule(pregnancies['low'] | glucose['low'] | skinThickness['good'] | insulin['low'] | age['low']\\n                  ,outcome['low']),\\n\\n        ctrl.Rule(pregnancies['medium'] | glucose['medium'] | bloodPressure['medium'] | skinThickness['average'] | insulin['medium']\\n                   | age['medium']\\n                  ,outcome['medium']),\\n\\n        ctrl.Rule(pregnancies['high'] | glucose['high'] | bloodPressure['high'] | skinThickness['below'] | insulin['high']  | age['high']\\n                  ,outcome['high']),\\n\\n\\n        ctrl.Rule(pregnancies['high'] | glucose['high'] | bloodPressure['medium'] | skinThickness['below'] | insulin['high']  | age['high']\\n                  ,outcome['medium']),\\n\\n\\n         ctrl.Rule(pregnancies['high'] | glucose['medium'] | bloodPressure['high'] | skinThickness['below'] | insulin['high']  | age['high']\\n                  ,outcome['medium']),\\n\\n        ctrl.Rule(pregnancies['low'] | glucose['high'] | bloodPressure['high'] | skinThickness['good'] | insulin['low']  | age['low']\\n                  ,outcome['low']),\\n\\n\\n\\n        ctrl.Rule(pregnancies['low'] | glucose['high'] | bloodPressure['medium'] | skinThickness['good'] | insulin['low'] | age['low']\\n                  ,outcome['low']),\\n\\n\\n        ctrl.Rule(pregnancies['low'] | glucose['medium'] | bloodPressure['high'] | skinThickness['good'] | insulin['low']  | age['low']\\n                  ,outcome['low']),\\n\\n\\n        ctrl.Rule(pregnancies['medium'] | glucose['high'] | bloodPressure['medium'] | skinThickness['average'] | insulin['medium']\\n                   | age['medium']\\n                  ,outcome['medium']),\\n\\n\\n        ctrl.Rule(pregnancies['medium'] | glucose['medium'] | bloodPressure['high'] | skinThickness['average'] | insulin['medium']\\n                   | age['medium']\\n                  ,outcome['medium']),\\n\\n\\n        ctrl.Rule(pregnancies['high'] | glucose['medium'] | bloodPressure['medium'] | skinThickness['average'] | insulin['medium']\\n                   | age['medium']\\n                  ,outcome['medium']),\\n        ctrl.Rule(pregnancies['medium'] | glucose['high'] | bloodPressure['medium'] | skinThickness['average'] | insulin['medium']\\n                   | age['medium']\\n                  ,outcome['medium']),\\n\\n\\n        ctrl.Rule(pregnancies['medium'] | glucose['medium'] | bloodPressure['high'] | skinThickness['average'] | insulin['medium']\\n                   | age['medium']\\n                  ,outcome['medium']),\\n\\n        ctrl.Rule(pregnancies['medium'] | glucose['medium'] | bloodPressure['medium'] | skinThickness['below'] | insulin['medium']\\n                   | age['medium']\\n                  ,outcome['medium']),\\n\\n\\n        ctrl.Rule(pregnancies['medium'] | glucose['medium'] | bloodPressure['medium'] | skinThickness['average'] | insulin['high']\\n                 | age['medium']\\n                  ,outcome['medium']),\\n\\n\\n        ctrl.Rule(pregnancies['medium'] | glucose['medium'] | bloodPressure['medium'] | skinThickness['average'] | insulin['medium']\\n                   | age['medium']\\n                  ,outcome['medium']),\\n\\n\\n        ctrl.Rule(pregnancies['medium'] | glucose['medium'] | bloodPressure['medium'] | skinThickness['average'] | insulin['medium']\\n                   | age['medium']\\n                  ,outcome['medium']),\\n\\n\\n        ctrl.Rule(pregnancies['medium'] | glucose['medium'] | bloodPressure['medium'] | skinThickness['average'] | insulin['medium']\\n                   | age['high']\\n                  ,outcome['medium']),\\n\\n\\n    ]\""
            ],
            "application/vnd.google.colaboratory.intrinsic+json": {
              "type": "string"
            }
          },
          "metadata": {},
          "execution_count": 22
        }
      ],
      "source": [
        "\"\"\"def buildRules(\n",
        "\n",
        "    pregnancies:ctrl.Antecedent,\n",
        "    glucose: ctrl.Antecedent,\n",
        "    bloodPressure: ctrl.Antecedent,\n",
        "    skinThickness: ctrl.Antecedent,\n",
        "    insulin: ctrl.Antecedent,\n",
        "\n",
        "    age: ctrl.Antecedent,\n",
        "    outcome: ctrl.Antecedent,\n",
        "):\n",
        "    return [\n",
        "        ctrl.Rule(pregnancies['low'] | glucose['low'] | skinThickness['good'] | insulin['low'] | age['low']\n",
        "                  ,outcome['low']),\n",
        "\n",
        "        ctrl.Rule(pregnancies['medium'] | glucose['medium'] | bloodPressure['medium'] | skinThickness['average'] | insulin['medium']\n",
        "                   | age['medium']\n",
        "                  ,outcome['medium']),\n",
        "\n",
        "        ctrl.Rule(pregnancies['high'] | glucose['high'] | bloodPressure['high'] | skinThickness['below'] | insulin['high']  | age['high']\n",
        "                  ,outcome['high']),\n",
        "\n",
        "\n",
        "        ctrl.Rule(pregnancies['high'] | glucose['high'] | bloodPressure['medium'] | skinThickness['below'] | insulin['high']  | age['high']\n",
        "                  ,outcome['medium']),\n",
        "\n",
        "\n",
        "         ctrl.Rule(pregnancies['high'] | glucose['medium'] | bloodPressure['high'] | skinThickness['below'] | insulin['high']  | age['high']\n",
        "                  ,outcome['medium']),\n",
        "\n",
        "        ctrl.Rule(pregnancies['low'] | glucose['high'] | bloodPressure['high'] | skinThickness['good'] | insulin['low']  | age['low']\n",
        "                  ,outcome['low']),\n",
        "\n",
        "\n",
        "\n",
        "        ctrl.Rule(pregnancies['low'] | glucose['high'] | bloodPressure['medium'] | skinThickness['good'] | insulin['low'] | age['low']\n",
        "                  ,outcome['low']),\n",
        "\n",
        "\n",
        "        ctrl.Rule(pregnancies['low'] | glucose['medium'] | bloodPressure['high'] | skinThickness['good'] | insulin['low']  | age['low']\n",
        "                  ,outcome['low']),\n",
        "\n",
        "\n",
        "        ctrl.Rule(pregnancies['medium'] | glucose['high'] | bloodPressure['medium'] | skinThickness['average'] | insulin['medium']\n",
        "                   | age['medium']\n",
        "                  ,outcome['medium']),\n",
        "\n",
        "\n",
        "        ctrl.Rule(pregnancies['medium'] | glucose['medium'] | bloodPressure['high'] | skinThickness['average'] | insulin['medium']\n",
        "                   | age['medium']\n",
        "                  ,outcome['medium']),\n",
        "\n",
        "\n",
        "        ctrl.Rule(pregnancies['high'] | glucose['medium'] | bloodPressure['medium'] | skinThickness['average'] | insulin['medium']\n",
        "                   | age['medium']\n",
        "                  ,outcome['medium']),\n",
        "        ctrl.Rule(pregnancies['medium'] | glucose['high'] | bloodPressure['medium'] | skinThickness['average'] | insulin['medium']\n",
        "                   | age['medium']\n",
        "                  ,outcome['medium']),\n",
        "\n",
        "\n",
        "        ctrl.Rule(pregnancies['medium'] | glucose['medium'] | bloodPressure['high'] | skinThickness['average'] | insulin['medium']\n",
        "                   | age['medium']\n",
        "                  ,outcome['medium']),\n",
        "\n",
        "        ctrl.Rule(pregnancies['medium'] | glucose['medium'] | bloodPressure['medium'] | skinThickness['below'] | insulin['medium']\n",
        "                   | age['medium']\n",
        "                  ,outcome['medium']),\n",
        "\n",
        "\n",
        "        ctrl.Rule(pregnancies['medium'] | glucose['medium'] | bloodPressure['medium'] | skinThickness['average'] | insulin['high']\n",
        "                 | age['medium']\n",
        "                  ,outcome['medium']),\n",
        "\n",
        "\n",
        "        ctrl.Rule(pregnancies['medium'] | glucose['medium'] | bloodPressure['medium'] | skinThickness['average'] | insulin['medium']\n",
        "                   | age['medium']\n",
        "                  ,outcome['medium']),\n",
        "\n",
        "\n",
        "        ctrl.Rule(pregnancies['medium'] | glucose['medium'] | bloodPressure['medium'] | skinThickness['average'] | insulin['medium']\n",
        "                   | age['medium']\n",
        "                  ,outcome['medium']),\n",
        "\n",
        "\n",
        "        ctrl.Rule(pregnancies['medium'] | glucose['medium'] | bloodPressure['medium'] | skinThickness['average'] | insulin['medium']\n",
        "                   | age['high']\n",
        "                  ,outcome['medium']),\n",
        "\n",
        "\n",
        "    ]\"\"\""
      ]
    },
    {
      "cell_type": "code",
      "source": [],
      "metadata": {
        "id": "SF1KFr-StnIT"
      },
      "execution_count": null,
      "outputs": []
    },
    {
      "cell_type": "code",
      "source": [],
      "metadata": {
        "id": "d-jjVsdvvKj4"
      },
      "execution_count": null,
      "outputs": []
    },
    {
      "cell_type": "code",
      "execution_count": null,
      "metadata": {
        "colab": {
          "base_uri": "https://localhost:8080/",
          "height": 140
        },
        "id": "IjwOn_7yWOe2",
        "outputId": "5d1ae9c5-fd72-46c6-e1db-8934378a4cfa"
      },
      "outputs": [
        {
          "output_type": "execute_result",
          "data": {
            "text/plain": [
              "\"def buildRules(\\n\\n    pregnancies:ctrl.Antecedent,\\n    glucose: ctrl.Antecedent,\\n    bloodPressure: ctrl.Antecedent,\\n    skinThickness: ctrl.Antecedent,\\n    insulin: ctrl.Antecedent,\\n    bmi: ctrl.Antecedent,\\n    pedigree: ctrl.Antecedent,\\n    age: ctrl.Antecedent,\\n    outcome: ctrl.Antecedent,\\n):\\n    return [\\n        ctrl.Rule(pregnancies['low'] | glucose['low'] | skinThickness['good'] | insulin['low'] | bmi['low']\\n                  | pedigree['low'] | age['low']\\n                  ,outcome['low']),\\n\\n        ctrl.Rule(pregnancies['medium'] | glucose['medium'] | bloodPressure['medium'] | skinThickness['average'] | insulin['medium']\\n                  | bmi['medium'] | pedigree['medium'] | age['medium']\\n                  ,outcome['medium']),\\n\\n        ctrl.Rule(pregnancies['high'] | glucose['high'] | bloodPressure['high'] | skinThickness['below'] | insulin['high'] | bmi['high']\\n                  | pedigree['high'] | age['high']\\n                  ,outcome['high']),\\n\\n\\n        ctrl.Rule(pregnancies['high'] | glucose['high'] | bloodPressure['medium'] | skinThickness['below'] | insulin['high'] | bmi['high']\\n                  | pedigree['high'] | age['high']\\n                  ,outcome['medium']),\\n\\n\\n         ctrl.Rule(pregnancies['high'] | glucose['medium'] | bloodPressure['high'] | skinThickness['below'] | insulin['high'] | bmi['high']\\n                  | pedigree['high'] | age['high']\\n                  ,outcome['medium']),\\n\\n        ctrl.Rule(pregnancies['low'] | glucose['high'] | bloodPressure['high'] | skinThickness['good'] | insulin['low'] | bmi['low']\\n                  | pedigree['low'] | age['low']\\n                  ,outcome['low']),\\n\\n\\n\\n        ctrl.Rule(pregnancies['low'] | glucose['high'] | bloodPressure['medium'] | skinThickness['good'] | insulin['low'] | bmi['low']\\n                  | pedigree['low'] | age['low']\\n                  ,outcome['low']),\\n\\n\\n        ctrl.Rule(pregnancies['low'] | glucose['medium'] | bloodPressure['high'] | skinThickness['good'] | insulin['low'] | bmi['low']\\n                  | pedigree['low'] | age['low']\\n                  ,outcome['low']),\\n\\n\\n        ctrl.Rule(pregnancies['medium'] | glucose['high'] | bloodPressure['medium'] | skinThickness['average'] | insulin['medium']\\n                  | bmi['medium'] | pedigree['medium'] | age['medium']\\n                  ,outcome['medium']),\\n\\n\\n        ctrl.Rule(pregnancies['medium'] | glucose['medium'] | bloodPressure['high'] | skinThickness['average'] | insulin['medium']\\n                  | bmi['medium'] | pedigree['medium'] | age['medium']\\n                  ,outcome['medium']),\\n\\n\\n        ctrl.Rule(pregnancies['high'] | glucose['medium'] | bloodPressure['medium'] | skinThickness['average'] | insulin['medium']\\n                  | bmi['medium'] | pedigree['medium'] | age['medium']\\n                  ,outcome['medium']),\\n\\n\\n        ctrl.Rule(pregnancies['medium'] | glucose['medium'] | bloodPressure['medium'] | skinThickness['below'] | insulin['medium']\\n                  | bmi['medium'] | pedigree['medium'] | age['medium']\\n                  ,outcome['medium']),\\n\\n\\n        ctrl.Rule(pregnancies['medium'] | glucose['medium'] | bloodPressure['medium'] | skinThickness['average'] | insulin['high']\\n                  | bmi['medium'] | pedigree['medium'] | age['medium']\\n                  ,outcome['medium']),\\n\\n\\n        ctrl.Rule(pregnancies['medium'] | glucose['medium'] | bloodPressure['medium'] | skinThickness['average'] | insulin['medium']\\n                  | bmi['high'] | pedigree['medium'] | age['medium']\\n                  ,outcome['medium']),\\n\\n\\n        ctrl.Rule(pregnancies['medium'] | glucose['medium'] | bloodPressure['medium'] | skinThickness['average'] | insulin['medium']\\n                  | bmi['medium'] | pedigree['high'] | age['medium']\\n                  ,outcome['medium']),\\n\\n\\n        ctrl.Rule(pregnancies['medium'] | glucose['medium'] | bloodPressure['medium'] | skinThickness['average'] | insulin['medium']\\n                  | bmi['medium'] | pedigree['medium'] | age['high']\\n                  ,outcome['medium']),\\n\\n\\n    ]\""
            ],
            "application/vnd.google.colaboratory.intrinsic+json": {
              "type": "string"
            }
          },
          "metadata": {},
          "execution_count": 23
        }
      ],
      "source": [
        "\"\"\"def buildRules(\n",
        "\n",
        "    pregnancies:ctrl.Antecedent,\n",
        "    glucose: ctrl.Antecedent,\n",
        "    bloodPressure: ctrl.Antecedent,\n",
        "    skinThickness: ctrl.Antecedent,\n",
        "    insulin: ctrl.Antecedent,\n",
        "    bmi: ctrl.Antecedent,\n",
        "    pedigree: ctrl.Antecedent,\n",
        "    age: ctrl.Antecedent,\n",
        "    outcome: ctrl.Antecedent,\n",
        "):\n",
        "    return [\n",
        "        ctrl.Rule(pregnancies['low'] | glucose['low'] | skinThickness['good'] | insulin['low'] | bmi['low']\n",
        "                  | pedigree['low'] | age['low']\n",
        "                  ,outcome['low']),\n",
        "\n",
        "        ctrl.Rule(pregnancies['medium'] | glucose['medium'] | bloodPressure['medium'] | skinThickness['average'] | insulin['medium']\n",
        "                  | bmi['medium'] | pedigree['medium'] | age['medium']\n",
        "                  ,outcome['medium']),\n",
        "\n",
        "        ctrl.Rule(pregnancies['high'] | glucose['high'] | bloodPressure['high'] | skinThickness['below'] | insulin['high'] | bmi['high']\n",
        "                  | pedigree['high'] | age['high']\n",
        "                  ,outcome['high']),\n",
        "\n",
        "\n",
        "        ctrl.Rule(pregnancies['high'] | glucose['high'] | bloodPressure['medium'] | skinThickness['below'] | insulin['high'] | bmi['high']\n",
        "                  | pedigree['high'] | age['high']\n",
        "                  ,outcome['medium']),\n",
        "\n",
        "\n",
        "         ctrl.Rule(pregnancies['high'] | glucose['medium'] | bloodPressure['high'] | skinThickness['below'] | insulin['high'] | bmi['high']\n",
        "                  | pedigree['high'] | age['high']\n",
        "                  ,outcome['medium']),\n",
        "\n",
        "        ctrl.Rule(pregnancies['low'] | glucose['high'] | bloodPressure['high'] | skinThickness['good'] | insulin['low'] | bmi['low']\n",
        "                  | pedigree['low'] | age['low']\n",
        "                  ,outcome['low']),\n",
        "\n",
        "\n",
        "\n",
        "        ctrl.Rule(pregnancies['low'] | glucose['high'] | bloodPressure['medium'] | skinThickness['good'] | insulin['low'] | bmi['low']\n",
        "                  | pedigree['low'] | age['low']\n",
        "                  ,outcome['low']),\n",
        "\n",
        "\n",
        "        ctrl.Rule(pregnancies['low'] | glucose['medium'] | bloodPressure['high'] | skinThickness['good'] | insulin['low'] | bmi['low']\n",
        "                  | pedigree['low'] | age['low']\n",
        "                  ,outcome['low']),\n",
        "\n",
        "\n",
        "        ctrl.Rule(pregnancies['medium'] | glucose['high'] | bloodPressure['medium'] | skinThickness['average'] | insulin['medium']\n",
        "                  | bmi['medium'] | pedigree['medium'] | age['medium']\n",
        "                  ,outcome['medium']),\n",
        "\n",
        "\n",
        "        ctrl.Rule(pregnancies['medium'] | glucose['medium'] | bloodPressure['high'] | skinThickness['average'] | insulin['medium']\n",
        "                  | bmi['medium'] | pedigree['medium'] | age['medium']\n",
        "                  ,outcome['medium']),\n",
        "\n",
        "\n",
        "        ctrl.Rule(pregnancies['high'] | glucose['medium'] | bloodPressure['medium'] | skinThickness['average'] | insulin['medium']\n",
        "                  | bmi['medium'] | pedigree['medium'] | age['medium']\n",
        "                  ,outcome['medium']),\n",
        "\n",
        "\n",
        "        ctrl.Rule(pregnancies['medium'] | glucose['medium'] | bloodPressure['medium'] | skinThickness['below'] | insulin['medium']\n",
        "                  | bmi['medium'] | pedigree['medium'] | age['medium']\n",
        "                  ,outcome['medium']),\n",
        "\n",
        "\n",
        "        ctrl.Rule(pregnancies['medium'] | glucose['medium'] | bloodPressure['medium'] | skinThickness['average'] | insulin['high']\n",
        "                  | bmi['medium'] | pedigree['medium'] | age['medium']\n",
        "                  ,outcome['medium']),\n",
        "\n",
        "\n",
        "        ctrl.Rule(pregnancies['medium'] | glucose['medium'] | bloodPressure['medium'] | skinThickness['average'] | insulin['medium']\n",
        "                  | bmi['high'] | pedigree['medium'] | age['medium']\n",
        "                  ,outcome['medium']),\n",
        "\n",
        "\n",
        "        ctrl.Rule(pregnancies['medium'] | glucose['medium'] | bloodPressure['medium'] | skinThickness['average'] | insulin['medium']\n",
        "                  | bmi['medium'] | pedigree['high'] | age['medium']\n",
        "                  ,outcome['medium']),\n",
        "\n",
        "\n",
        "        ctrl.Rule(pregnancies['medium'] | glucose['medium'] | bloodPressure['medium'] | skinThickness['average'] | insulin['medium']\n",
        "                  | bmi['medium'] | pedigree['medium'] | age['high']\n",
        "                  ,outcome['medium']),\n",
        "\n",
        "\n",
        "    ]\"\"\""
      ]
    },
    {
      "cell_type": "code",
      "execution_count": null,
      "metadata": {
        "colab": {
          "base_uri": "https://localhost:8080/"
        },
        "id": "vjxTmWuC8xoV",
        "outputId": "2f7f7ee5-92f2-4860-b4e3-7ca1aa5d265f"
      },
      "outputs": [
        {
          "output_type": "stream",
          "name": "stdout",
          "text": [
            "274\n",
            "205\n",
            "74.82%\n"
          ]
        }
      ],
      "source": [
        "# Create fuzzy inference system\n",
        "\n",
        "pregnancies = ctrl.Antecedent(np.arange(1, 17+1, 1), 'pregnancies')\n",
        "glucose = ctrl.Antecedent(np.arange(0, 199+1, 1), 'glucose')\n",
        "bloodPressure = ctrl.Antecedent(np.arange(0, 122+1, 1), 'bloodPressure')\n",
        "skinThickness\t= ctrl.Antecedent(np.arange(0, 99+1, 1), 'skinThickness')\n",
        "insulin = ctrl.Antecedent(np.arange(0, 846+1, 1), 'insulin')\n",
        "bmi = ctrl.Antecedent(np.arange(0, 67.1+0.1, 0.1), 'bmi')\n",
        "pedigree = ctrl.Antecedent(np.arange(0.078, 2.42+0.001, 0.001), 'pedigree')\n",
        "age = ctrl.Antecedent(np.arange(21, 81+0.01, 0.01), 'age')\n",
        "outcome = ctrl.Consequent(np.arange(0, 1+0.01, 0.01), 'outcome',\n",
        "                             defuzzify_method=\"centroid\")\n",
        "\n",
        "# Membership Functions\n",
        "pregnanciesT(pregnancies = pregnancies)\n",
        "glucoseT(glucose=glucose)\n",
        "bloodPressureT(bloodPressure = bloodPressure)\n",
        "skinThicknessT(skinThickness = skinThickness)\n",
        "insulinT(insulin = insulin)\n",
        "bmiT(bmi=bmi)\n",
        "pedigreeT(pedigree = pedigree)\n",
        "ageT(age=age)\n",
        "outcomeT(outcome=outcome)\n",
        "\n",
        "# Rules\n",
        "rules = buildRules(\n",
        "    #pregnancies = pregnancies,\n",
        "    glucose = glucose,\n",
        "    bloodPressure = bloodPressure,\n",
        "    skinThickness = skinThickness,\n",
        "    #insulin = insulin,\n",
        "    #age=age,\n",
        "    bmi=bmi,\n",
        "    pedigree = pedigree,\n",
        "    outcome = outcome,\n",
        ")\n",
        "\n",
        "# Mamdani control system\n",
        "prediction_ctrl = ctrl.ControlSystem(rules)\n",
        "prediction_inference = ctrl.ControlSystemSimulation(prediction_ctrl)\n",
        "\n",
        "\n",
        "#\n",
        "#prediction_inference.input['pregnancies'] = x_train['Pregnancies'].to_numpy()\n",
        "prediction_inference.input['glucose'] = x_train['Glucose'].to_numpy()\n",
        "prediction_inference.input['bloodPressure'] = x_train['BloodPressure'].to_numpy()\n",
        "#prediction_inference.input['insulin'] = x_train['Insulin'].to_numpy()\n",
        "prediction_inference.input['skinThickness']= x_train['SkinThickness'].to_numpy()\n",
        "prediction_inference.input['pedigree']= x_train['DiabetesPedigreeFunction'].to_numpy()\n",
        "#prediction_inference.input['age'] = x_train['Age'].to_numpy()\n",
        "prediction_inference.input['bmi'] = x_train['BMI'].to_numpy()\n",
        "\n",
        "\n",
        "prediction_inference.compute()\n",
        "result_np = prediction_inference.output['outcome']\n",
        "\n",
        "output_np = np.where(result_np > 0.481, 1, 0)\n",
        "gt_np = y_train.to_numpy()\n",
        "total_sample = gt_np.shape[0]\n",
        "accurate_sample = (output_np == gt_np).sum()\n",
        "accuracy = (accurate_sample / total_sample) * 100\n",
        "print(total_sample)\n",
        "print(accurate_sample)\n",
        "print(f\"{accuracy:.2f}%\")\n",
        "\n"
      ]
    },
    {
      "cell_type": "code",
      "execution_count": null,
      "metadata": {
        "colab": {
          "base_uri": "https://localhost:8080/"
        },
        "id": "reEr8aT-2yUa",
        "outputId": "8aaa1979-ec62-442a-e1c2-808fe381cb87"
      },
      "outputs": [
        {
          "output_type": "stream",
          "name": "stdout",
          "text": [
            "118\n",
            "88\n",
            "74.58%\n"
          ]
        },
        {
          "output_type": "stream",
          "name": "stderr",
          "text": [
            "/usr/local/lib/python3.10/dist-packages/skfuzzy/control/controlsystem.py:178: UserWarning: Input array is shape (118,), which is different from previous array(s) which were (274,).  This may cause problems, unless you are replacing all inputs.\n",
            "  warn(\"Input array is shape {0}, which is different from \"\n"
          ]
        }
      ],
      "source": [
        "#prediction_inference.input['pregnancies'] = x_test['Pregnancies'].to_numpy()\n",
        "prediction_inference.input['glucose'] = x_test['Glucose'].to_numpy()\n",
        "prediction_inference.input['bloodPressure'] = x_test['BloodPressure'].to_numpy()\n",
        "#prediction_inference.input['insulin'] = x_test['Insulin'].to_numpy()\n",
        "prediction_inference.input['skinThickness']= x_test['SkinThickness'].to_numpy()\n",
        "prediction_inference.input['pedigree']= x_test['DiabetesPedigreeFunction'].to_numpy()\n",
        "#prediction_inference.input['age'] = x_test['Age'].to_numpy()\n",
        "prediction_inference.input['bmi'] = x_test['BMI'].to_numpy()\n",
        "\n",
        "\n",
        "prediction_inference.compute()\n",
        "result_np_test = prediction_inference.output['outcome']\n",
        "\n",
        "output_np_t = np.where(result_np_test > 0.48, 1, 0)\n",
        "gt_np = y_test.to_numpy()\n",
        "total_sample = gt_np.shape[0]\n",
        "accurate_sample = (output_np_t == gt_np).sum()\n",
        "accuracy = (accurate_sample / total_sample) * 100\n",
        "print(total_sample)\n",
        "print(accurate_sample)\n",
        "print(f\"{accuracy:.2f}%\")\n"
      ]
    },
    {
      "cell_type": "code",
      "execution_count": null,
      "metadata": {
        "colab": {
          "base_uri": "https://localhost:8080/",
          "height": 105
        },
        "id": "9HLdL5l--wxz",
        "outputId": "6cbfe59b-138c-4d62-d3d8-56fde6ae0628"
      },
      "outputs": [
        {
          "output_type": "execute_result",
          "data": {
            "text/plain": [
              "\"# Convert 'fuzzy_output' to a DataFrame\\nfuzzy_features = pd.DataFrame(result_np, columns=['fuzzy_output'])\\n\\nx_train.reset_index(drop=True, inplace=True)\\nfuzzy_features.reset_index(drop=True, inplace=True)\\n\\n# Combine fuzzy output with the scaled training data\\nx_train_combined = pd.concat([x_train, fuzzy_features], axis=1)\\n\\n\\nfuzzy_features_t = pd.DataFrame(result_np_test, columns=['fuzzy_output'])\\nx_test.reset_index(drop=True, inplace=True)\\nfuzzy_features_t.reset_index(drop=True, inplace=True)\\n\\n   # Combine fuzzy output with the scaled test data\\nx_test_combined = pd.concat([x_test, fuzzy_features_t ], axis=1)\""
            ],
            "application/vnd.google.colaboratory.intrinsic+json": {
              "type": "string"
            }
          },
          "metadata": {},
          "execution_count": 26
        }
      ],
      "source": [
        " \"\"\"# Convert 'fuzzy_output' to a DataFrame\n",
        "fuzzy_features = pd.DataFrame(result_np, columns=['fuzzy_output'])\n",
        "\n",
        "x_train.reset_index(drop=True, inplace=True)\n",
        "fuzzy_features.reset_index(drop=True, inplace=True)\n",
        "\n",
        "# Combine fuzzy output with the scaled training data\n",
        "x_train_combined = pd.concat([x_train, fuzzy_features], axis=1)\n",
        "\n",
        "\n",
        "fuzzy_features_t = pd.DataFrame(result_np_test, columns=['fuzzy_output'])\n",
        "x_test.reset_index(drop=True, inplace=True)\n",
        "fuzzy_features_t.reset_index(drop=True, inplace=True)\n",
        "\n",
        "    # Combine fuzzy output with the scaled test data\n",
        "x_test_combined = pd.concat([x_test, fuzzy_features_t ], axis=1)\"\"\""
      ]
    },
    {
      "cell_type": "code",
      "source": [
        " # Convert 'fuzzy_output' to a DataFrame\n",
        "fuzzy_features = pd.DataFrame(output_np, columns=['fuzzy_output'])\n",
        "\n",
        "x_train.reset_index(drop=True, inplace=True)\n",
        "fuzzy_features.reset_index(drop=True, inplace=True)\n",
        "\n",
        "# Combine fuzzy output with the scaled training data\n",
        "x_train_combined = pd.concat([x_train, fuzzy_features], axis=1)\n",
        "\n",
        "\n",
        "fuzzy_features_t = pd.DataFrame(output_np_t, columns=['fuzzy_output'])\n",
        "x_test.reset_index(drop=True, inplace=True)\n",
        "fuzzy_features_t.reset_index(drop=True, inplace=True)\n",
        "\n",
        "    # Combine fuzzy output with the scaled test data\n",
        "x_test_combined = pd.concat([x_test, fuzzy_features_t ], axis=1)"
      ],
      "metadata": {
        "id": "XV49Lb5-CHxC"
      },
      "execution_count": null,
      "outputs": []
    },
    {
      "cell_type": "code",
      "execution_count": null,
      "metadata": {
        "colab": {
          "base_uri": "https://localhost:8080/",
          "height": 36
        },
        "id": "YS-zqakQCIb-",
        "outputId": "30056732-b021-41dd-aed8-f2edb1167b17"
      },
      "outputs": [
        {
          "output_type": "execute_result",
          "data": {
            "text/plain": [
              "'# Concatenate them horizontally\\ntrain = pd.concat([x_train_combined, y_train], axis=1)\\ntest = pd.concat([x_test_combined, y_test], axis=1)'"
            ],
            "application/vnd.google.colaboratory.intrinsic+json": {
              "type": "string"
            }
          },
          "metadata": {},
          "execution_count": 28
        }
      ],
      "source": [
        "\"\"\"# Concatenate them horizontally\n",
        "train = pd.concat([x_train_combined, y_train], axis=1)\n",
        "test = pd.concat([x_test_combined, y_test], axis=1)\"\"\""
      ]
    },
    {
      "cell_type": "code",
      "execution_count": null,
      "metadata": {
        "colab": {
          "base_uri": "https://localhost:8080/",
          "height": 36
        },
        "id": "Tfl2sFX0CZx9",
        "outputId": "a15d7d93-17f3-409f-9018-27bd5a4917bb"
      },
      "outputs": [
        {
          "output_type": "execute_result",
          "data": {
            "text/plain": [
              "'# Concatenate train and test to create a combined dataset\\ncombined_dataset = pd.concat([train, test], ignore_index=True)'"
            ],
            "application/vnd.google.colaboratory.intrinsic+json": {
              "type": "string"
            }
          },
          "metadata": {},
          "execution_count": 29
        }
      ],
      "source": [
        "\"\"\"# Concatenate train and test to create a combined dataset\n",
        "combined_dataset = pd.concat([train, test], ignore_index=True)\"\"\""
      ]
    },
    {
      "cell_type": "code",
      "execution_count": null,
      "metadata": {
        "colab": {
          "base_uri": "https://localhost:8080/",
          "height": 53
        },
        "id": "B6-xndKgDBeK",
        "outputId": "67fa10d8-df79-48d1-de07-04fd27ccbd95"
      },
      "outputs": [
        {
          "output_type": "execute_result",
          "data": {
            "text/plain": [
              "'from sklearn.preprocessing import StandardScaler\\nimport pandas as pd\\n\\nscaler = StandardScaler()\\ndata_scaled = scaler.fit_transform(combined_dataset)\\n\\ndata = pd.DataFrame(data_scaled, columns=combined_dataset.columns)'"
            ],
            "application/vnd.google.colaboratory.intrinsic+json": {
              "type": "string"
            }
          },
          "metadata": {},
          "execution_count": 30
        }
      ],
      "source": [
        "\"\"\"from sklearn.preprocessing import StandardScaler\n",
        "import pandas as pd\n",
        "\n",
        "scaler = StandardScaler()\n",
        "data_scaled = scaler.fit_transform(combined_dataset)\n",
        "\n",
        "data = pd.DataFrame(data_scaled, columns=combined_dataset.columns)\"\"\""
      ]
    },
    {
      "cell_type": "code",
      "execution_count": null,
      "metadata": {
        "colab": {
          "base_uri": "https://localhost:8080/",
          "height": 206
        },
        "id": "MJj5XQyz8N7e",
        "outputId": "54128e73-cd7a-4856-ef01-c07dbe5f7070"
      },
      "outputs": [
        {
          "output_type": "execute_result",
          "data": {
            "text/plain": [
              "   Pregnancies   Glucose  BloodPressure  SkinThickness   Insulin       BMI  \\\n",
              "0     0.513979  1.058735       1.051660       1.298798  0.409668  0.924832   \n",
              "1    -0.443645  0.528972      -0.940002       0.556371 -0.296666 -1.056009   \n",
              "2    -0.124437 -0.530556      -0.633593      -1.670911 -0.985773 -1.409730   \n",
              "3    -0.443645 -0.499393      -0.633593      -1.989094  0.995409 -1.070157   \n",
              "4     0.513979  0.466646       0.745250       0.662432 -0.021024 -0.178779   \n",
              "\n",
              "   DiabetesPedigreeFunction       Age  fuzzy_output  \n",
              "0                 -0.328550 -0.147378     -0.438086  \n",
              "1                  0.529031 -0.649997     -0.438086  \n",
              "2                  0.469790 -0.750520     -0.438086  \n",
              "3                  1.042451 -0.851044     -0.438086  \n",
              "4                 -0.424463 -0.549473     -0.438086  "
            ],
            "text/html": [
              "\n",
              "  <div id=\"df-cbc6d711-be46-42a3-ad2f-ff1b91adae0f\" class=\"colab-df-container\">\n",
              "    <div>\n",
              "<style scoped>\n",
              "    .dataframe tbody tr th:only-of-type {\n",
              "        vertical-align: middle;\n",
              "    }\n",
              "\n",
              "    .dataframe tbody tr th {\n",
              "        vertical-align: top;\n",
              "    }\n",
              "\n",
              "    .dataframe thead th {\n",
              "        text-align: right;\n",
              "    }\n",
              "</style>\n",
              "<table border=\"1\" class=\"dataframe\">\n",
              "  <thead>\n",
              "    <tr style=\"text-align: right;\">\n",
              "      <th></th>\n",
              "      <th>Pregnancies</th>\n",
              "      <th>Glucose</th>\n",
              "      <th>BloodPressure</th>\n",
              "      <th>SkinThickness</th>\n",
              "      <th>Insulin</th>\n",
              "      <th>BMI</th>\n",
              "      <th>DiabetesPedigreeFunction</th>\n",
              "      <th>Age</th>\n",
              "      <th>fuzzy_output</th>\n",
              "    </tr>\n",
              "  </thead>\n",
              "  <tbody>\n",
              "    <tr>\n",
              "      <th>0</th>\n",
              "      <td>0.513979</td>\n",
              "      <td>1.058735</td>\n",
              "      <td>1.051660</td>\n",
              "      <td>1.298798</td>\n",
              "      <td>0.409668</td>\n",
              "      <td>0.924832</td>\n",
              "      <td>-0.328550</td>\n",
              "      <td>-0.147378</td>\n",
              "      <td>-0.438086</td>\n",
              "    </tr>\n",
              "    <tr>\n",
              "      <th>1</th>\n",
              "      <td>-0.443645</td>\n",
              "      <td>0.528972</td>\n",
              "      <td>-0.940002</td>\n",
              "      <td>0.556371</td>\n",
              "      <td>-0.296666</td>\n",
              "      <td>-1.056009</td>\n",
              "      <td>0.529031</td>\n",
              "      <td>-0.649997</td>\n",
              "      <td>-0.438086</td>\n",
              "    </tr>\n",
              "    <tr>\n",
              "      <th>2</th>\n",
              "      <td>-0.124437</td>\n",
              "      <td>-0.530556</td>\n",
              "      <td>-0.633593</td>\n",
              "      <td>-1.670911</td>\n",
              "      <td>-0.985773</td>\n",
              "      <td>-1.409730</td>\n",
              "      <td>0.469790</td>\n",
              "      <td>-0.750520</td>\n",
              "      <td>-0.438086</td>\n",
              "    </tr>\n",
              "    <tr>\n",
              "      <th>3</th>\n",
              "      <td>-0.443645</td>\n",
              "      <td>-0.499393</td>\n",
              "      <td>-0.633593</td>\n",
              "      <td>-1.989094</td>\n",
              "      <td>0.995409</td>\n",
              "      <td>-1.070157</td>\n",
              "      <td>1.042451</td>\n",
              "      <td>-0.851044</td>\n",
              "      <td>-0.438086</td>\n",
              "    </tr>\n",
              "    <tr>\n",
              "      <th>4</th>\n",
              "      <td>0.513979</td>\n",
              "      <td>0.466646</td>\n",
              "      <td>0.745250</td>\n",
              "      <td>0.662432</td>\n",
              "      <td>-0.021024</td>\n",
              "      <td>-0.178779</td>\n",
              "      <td>-0.424463</td>\n",
              "      <td>-0.549473</td>\n",
              "      <td>-0.438086</td>\n",
              "    </tr>\n",
              "  </tbody>\n",
              "</table>\n",
              "</div>\n",
              "    <div class=\"colab-df-buttons\">\n",
              "\n",
              "  <div class=\"colab-df-container\">\n",
              "    <button class=\"colab-df-convert\" onclick=\"convertToInteractive('df-cbc6d711-be46-42a3-ad2f-ff1b91adae0f')\"\n",
              "            title=\"Convert this dataframe to an interactive table.\"\n",
              "            style=\"display:none;\">\n",
              "\n",
              "  <svg xmlns=\"http://www.w3.org/2000/svg\" height=\"24px\" viewBox=\"0 -960 960 960\">\n",
              "    <path d=\"M120-120v-720h720v720H120Zm60-500h600v-160H180v160Zm220 220h160v-160H400v160Zm0 220h160v-160H400v160ZM180-400h160v-160H180v160Zm440 0h160v-160H620v160ZM180-180h160v-160H180v160Zm440 0h160v-160H620v160Z\"/>\n",
              "  </svg>\n",
              "    </button>\n",
              "\n",
              "  <style>\n",
              "    .colab-df-container {\n",
              "      display:flex;\n",
              "      gap: 12px;\n",
              "    }\n",
              "\n",
              "    .colab-df-convert {\n",
              "      background-color: #E8F0FE;\n",
              "      border: none;\n",
              "      border-radius: 50%;\n",
              "      cursor: pointer;\n",
              "      display: none;\n",
              "      fill: #1967D2;\n",
              "      height: 32px;\n",
              "      padding: 0 0 0 0;\n",
              "      width: 32px;\n",
              "    }\n",
              "\n",
              "    .colab-df-convert:hover {\n",
              "      background-color: #E2EBFA;\n",
              "      box-shadow: 0px 1px 2px rgba(60, 64, 67, 0.3), 0px 1px 3px 1px rgba(60, 64, 67, 0.15);\n",
              "      fill: #174EA6;\n",
              "    }\n",
              "\n",
              "    .colab-df-buttons div {\n",
              "      margin-bottom: 4px;\n",
              "    }\n",
              "\n",
              "    [theme=dark] .colab-df-convert {\n",
              "      background-color: #3B4455;\n",
              "      fill: #D2E3FC;\n",
              "    }\n",
              "\n",
              "    [theme=dark] .colab-df-convert:hover {\n",
              "      background-color: #434B5C;\n",
              "      box-shadow: 0px 1px 3px 1px rgba(0, 0, 0, 0.15);\n",
              "      filter: drop-shadow(0px 1px 2px rgba(0, 0, 0, 0.3));\n",
              "      fill: #FFFFFF;\n",
              "    }\n",
              "  </style>\n",
              "\n",
              "    <script>\n",
              "      const buttonEl =\n",
              "        document.querySelector('#df-cbc6d711-be46-42a3-ad2f-ff1b91adae0f button.colab-df-convert');\n",
              "      buttonEl.style.display =\n",
              "        google.colab.kernel.accessAllowed ? 'block' : 'none';\n",
              "\n",
              "      async function convertToInteractive(key) {\n",
              "        const element = document.querySelector('#df-cbc6d711-be46-42a3-ad2f-ff1b91adae0f');\n",
              "        const dataTable =\n",
              "          await google.colab.kernel.invokeFunction('convertToInteractive',\n",
              "                                                    [key], {});\n",
              "        if (!dataTable) return;\n",
              "\n",
              "        const docLinkHtml = 'Like what you see? Visit the ' +\n",
              "          '<a target=\"_blank\" href=https://colab.research.google.com/notebooks/data_table.ipynb>data table notebook</a>'\n",
              "          + ' to learn more about interactive tables.';\n",
              "        element.innerHTML = '';\n",
              "        dataTable['output_type'] = 'display_data';\n",
              "        await google.colab.output.renderOutput(dataTable, element);\n",
              "        const docLink = document.createElement('div');\n",
              "        docLink.innerHTML = docLinkHtml;\n",
              "        element.appendChild(docLink);\n",
              "      }\n",
              "    </script>\n",
              "  </div>\n",
              "\n",
              "\n",
              "<div id=\"df-d4062b8d-a733-47ef-85c6-f187ad055b9c\">\n",
              "  <button class=\"colab-df-quickchart\" onclick=\"quickchart('df-d4062b8d-a733-47ef-85c6-f187ad055b9c')\"\n",
              "            title=\"Suggest charts\"\n",
              "            style=\"display:none;\">\n",
              "\n",
              "<svg xmlns=\"http://www.w3.org/2000/svg\" height=\"24px\"viewBox=\"0 0 24 24\"\n",
              "     width=\"24px\">\n",
              "    <g>\n",
              "        <path d=\"M19 3H5c-1.1 0-2 .9-2 2v14c0 1.1.9 2 2 2h14c1.1 0 2-.9 2-2V5c0-1.1-.9-2-2-2zM9 17H7v-7h2v7zm4 0h-2V7h2v10zm4 0h-2v-4h2v4z\"/>\n",
              "    </g>\n",
              "</svg>\n",
              "  </button>\n",
              "\n",
              "<style>\n",
              "  .colab-df-quickchart {\n",
              "      --bg-color: #E8F0FE;\n",
              "      --fill-color: #1967D2;\n",
              "      --hover-bg-color: #E2EBFA;\n",
              "      --hover-fill-color: #174EA6;\n",
              "      --disabled-fill-color: #AAA;\n",
              "      --disabled-bg-color: #DDD;\n",
              "  }\n",
              "\n",
              "  [theme=dark] .colab-df-quickchart {\n",
              "      --bg-color: #3B4455;\n",
              "      --fill-color: #D2E3FC;\n",
              "      --hover-bg-color: #434B5C;\n",
              "      --hover-fill-color: #FFFFFF;\n",
              "      --disabled-bg-color: #3B4455;\n",
              "      --disabled-fill-color: #666;\n",
              "  }\n",
              "\n",
              "  .colab-df-quickchart {\n",
              "    background-color: var(--bg-color);\n",
              "    border: none;\n",
              "    border-radius: 50%;\n",
              "    cursor: pointer;\n",
              "    display: none;\n",
              "    fill: var(--fill-color);\n",
              "    height: 32px;\n",
              "    padding: 0;\n",
              "    width: 32px;\n",
              "  }\n",
              "\n",
              "  .colab-df-quickchart:hover {\n",
              "    background-color: var(--hover-bg-color);\n",
              "    box-shadow: 0 1px 2px rgba(60, 64, 67, 0.3), 0 1px 3px 1px rgba(60, 64, 67, 0.15);\n",
              "    fill: var(--button-hover-fill-color);\n",
              "  }\n",
              "\n",
              "  .colab-df-quickchart-complete:disabled,\n",
              "  .colab-df-quickchart-complete:disabled:hover {\n",
              "    background-color: var(--disabled-bg-color);\n",
              "    fill: var(--disabled-fill-color);\n",
              "    box-shadow: none;\n",
              "  }\n",
              "\n",
              "  .colab-df-spinner {\n",
              "    border: 2px solid var(--fill-color);\n",
              "    border-color: transparent;\n",
              "    border-bottom-color: var(--fill-color);\n",
              "    animation:\n",
              "      spin 1s steps(1) infinite;\n",
              "  }\n",
              "\n",
              "  @keyframes spin {\n",
              "    0% {\n",
              "      border-color: transparent;\n",
              "      border-bottom-color: var(--fill-color);\n",
              "      border-left-color: var(--fill-color);\n",
              "    }\n",
              "    20% {\n",
              "      border-color: transparent;\n",
              "      border-left-color: var(--fill-color);\n",
              "      border-top-color: var(--fill-color);\n",
              "    }\n",
              "    30% {\n",
              "      border-color: transparent;\n",
              "      border-left-color: var(--fill-color);\n",
              "      border-top-color: var(--fill-color);\n",
              "      border-right-color: var(--fill-color);\n",
              "    }\n",
              "    40% {\n",
              "      border-color: transparent;\n",
              "      border-right-color: var(--fill-color);\n",
              "      border-top-color: var(--fill-color);\n",
              "    }\n",
              "    60% {\n",
              "      border-color: transparent;\n",
              "      border-right-color: var(--fill-color);\n",
              "    }\n",
              "    80% {\n",
              "      border-color: transparent;\n",
              "      border-right-color: var(--fill-color);\n",
              "      border-bottom-color: var(--fill-color);\n",
              "    }\n",
              "    90% {\n",
              "      border-color: transparent;\n",
              "      border-bottom-color: var(--fill-color);\n",
              "    }\n",
              "  }\n",
              "</style>\n",
              "\n",
              "  <script>\n",
              "    async function quickchart(key) {\n",
              "      const quickchartButtonEl =\n",
              "        document.querySelector('#' + key + ' button');\n",
              "      quickchartButtonEl.disabled = true;  // To prevent multiple clicks.\n",
              "      quickchartButtonEl.classList.add('colab-df-spinner');\n",
              "      try {\n",
              "        const charts = await google.colab.kernel.invokeFunction(\n",
              "            'suggestCharts', [key], {});\n",
              "      } catch (error) {\n",
              "        console.error('Error during call to suggestCharts:', error);\n",
              "      }\n",
              "      quickchartButtonEl.classList.remove('colab-df-spinner');\n",
              "      quickchartButtonEl.classList.add('colab-df-quickchart-complete');\n",
              "    }\n",
              "    (() => {\n",
              "      let quickchartButtonEl =\n",
              "        document.querySelector('#df-d4062b8d-a733-47ef-85c6-f187ad055b9c button');\n",
              "      quickchartButtonEl.style.display =\n",
              "        google.colab.kernel.accessAllowed ? 'block' : 'none';\n",
              "    })();\n",
              "  </script>\n",
              "</div>\n",
              "    </div>\n",
              "  </div>\n"
            ]
          },
          "metadata": {},
          "execution_count": 31
        }
      ],
      "source": [
        "from sklearn.preprocessing import StandardScaler\n",
        "import pandas as pd\n",
        "\n",
        "scaler = StandardScaler()\n",
        "data_scaled = scaler.fit_transform(x_train_combined)\n",
        "\n",
        "x_train_combined = pd.DataFrame(data_scaled, columns=x_train_combined.columns)\n",
        "x_train_combined.head()\n",
        "\n",
        "data_scaledd = scaler.fit_transform(x_test_combined)\n",
        "\n",
        "x_test_combined = pd.DataFrame(data_scaledd, columns=x_test_combined.columns)\n",
        "x_test_combined.head()"
      ]
    },
    {
      "cell_type": "code",
      "execution_count": null,
      "metadata": {
        "colab": {
          "base_uri": "https://localhost:8080/",
          "height": 53
        },
        "id": "rW2tfX3U-9hO",
        "outputId": "3ca57802-8cbb-44b1-d1dd-add2c488eda9"
      },
      "outputs": [
        {
          "output_type": "execute_result",
          "data": {
            "text/plain": [
              "'classifier_combined = MLPClassifier(hidden_layer_sizes=(8, 4), max_iter=1000, random_state=1)\\nclassifier_combined.fit(x_train_combined, y_train)'"
            ],
            "application/vnd.google.colaboratory.intrinsic+json": {
              "type": "string"
            }
          },
          "metadata": {},
          "execution_count": 32
        }
      ],
      "source": [
        "# Train a neural network using the combined dataset\n",
        "\"\"\"classifier_combined = MLPClassifier(hidden_layer_sizes=(8, 4), max_iter=1000, random_state=1)\n",
        "classifier_combined.fit(x_train_combined, y_train)\"\"\""
      ]
    },
    {
      "cell_type": "code",
      "execution_count": null,
      "metadata": {
        "colab": {
          "base_uri": "https://localhost:8080/",
          "height": 53
        },
        "id": "jIZmPO6ZEQll",
        "outputId": "cee1c73c-289f-49e1-ef86-668eb47d1336"
      },
      "outputs": [
        {
          "output_type": "execute_result",
          "data": {
            "text/plain": [
              "'y_pred_combined_a = classifier_combined.predict(x_train)\\naccuracy_combined_a = accuracy_score(y_train, y_pred_combined_a)\\nprint(\"Accuracy of the Combined Model:\", accuracy_combined_a)'"
            ],
            "application/vnd.google.colaboratory.intrinsic+json": {
              "type": "string"
            }
          },
          "metadata": {},
          "execution_count": 33
        }
      ],
      "source": [
        "\"\"\"y_pred_combined_a = classifier_combined.predict(x_train)\n",
        "accuracy_combined_a = accuracy_score(y_train, y_pred_combined_a)\n",
        "print(\"Accuracy of the Combined Model:\", accuracy_combined_a)\"\"\""
      ]
    },
    {
      "cell_type": "code",
      "execution_count": null,
      "metadata": {
        "colab": {
          "base_uri": "https://localhost:8080/",
          "height": 53
        },
        "id": "4jjuIDPP_DNa",
        "outputId": "c6ccb581-392e-4708-f596-192bd18349b2"
      },
      "outputs": [
        {
          "output_type": "execute_result",
          "data": {
            "text/plain": [
              "'y_pred_combined_a = classifier_combined.predict(x_train_combined)\\naccuracy_combined_a = accuracy_score(y_train, y_pred_combined_a)\\nprint(\"Accuracy of the Combined Model:\", accuracy_combined_a)'"
            ],
            "application/vnd.google.colaboratory.intrinsic+json": {
              "type": "string"
            }
          },
          "metadata": {},
          "execution_count": 34
        }
      ],
      "source": [
        "\"\"\"y_pred_combined_a = classifier_combined.predict(x_train_combined)\n",
        "accuracy_combined_a = accuracy_score(y_train, y_pred_combined_a)\n",
        "print(\"Accuracy of the Combined Model:\", accuracy_combined_a)\"\"\""
      ]
    },
    {
      "cell_type": "code",
      "execution_count": null,
      "metadata": {
        "colab": {
          "base_uri": "https://localhost:8080/",
          "height": 70
        },
        "id": "5z0N-WAS856W",
        "outputId": "a5ac490e-5f80-4069-99d1-9c78ddfa58e0"
      },
      "outputs": [
        {
          "output_type": "execute_result",
          "data": {
            "text/plain": [
              "'#tbeli t predicti hadi brk li 9bal non\\n    # Make predictions using the trained neural network\\ny_pred_combined = classifier_combined.predict(x_test_combined)\\n\\n    # Evaluate the performance of the combined model\\naccuracy_combined = accuracy_score(y_test, y_pred_combined)\\nprint(\"Accuracy of the Combined Model:\", accuracy_combined)'"
            ],
            "application/vnd.google.colaboratory.intrinsic+json": {
              "type": "string"
            }
          },
          "metadata": {},
          "execution_count": 35
        }
      ],
      "source": [
        "\"\"\"#tbeli t predicti hadi brk li 9bal non\n",
        "    # Make predictions using the trained neural network\n",
        "y_pred_combined = classifier_combined.predict(x_test_combined)\n",
        "\n",
        "    # Evaluate the performance of the combined model\n",
        "accuracy_combined = accuracy_score(y_test, y_pred_combined)\n",
        "print(\"Accuracy of the Combined Model:\", accuracy_combined)\"\"\""
      ]
    },
    {
      "cell_type": "code",
      "source": [
        "from sklearn.neural_network import MLPClassifier\n",
        "from sklearn.metrics import accuracy_score, classification_report, confusion_matrix\n",
        "from sklearn.model_selection import cross_val_score\n",
        "\n",
        "# Fine-Tune Regularization Parameter\n",
        "for alpha in [0.001, 0.01, 0.1, 1,2,3,4,5,6,7,8,9,10,11, 12, 13, 14, 15, 16, 17, 18, 19, 20]:\n",
        "    classifier_combined_regularized = MLPClassifier(hidden_layer_sizes=(8, 4), max_iter=1000, random_state=1, alpha=alpha)\n",
        "    classifier_combined_regularized.fit(x_train_combined, y_train)\n",
        "    y_pred_combined = classifier_combined_regularized.predict(x_test_combined)\n",
        "    accuracy_combined = accuracy_score(y_test, y_pred_combined)\n",
        "    print(f\"Accuracy with alpha={alpha}: {accuracy_combined}\")\n",
        "\n",
        "# Evaluate Additional Metrics\n",
        "print(\"\\nClassification Report:\")\n",
        "print(classification_report(y_test, y_pred_combined))\n",
        "\n",
        "print(\"\\nConfusion Matrix:\")\n",
        "print(confusion_matrix(y_test, y_pred_combined))\n",
        "\n",
        "# Cross-Validation\n",
        "cv_scores = cross_val_score(classifier_combined_regularized, x_train_combined, y_train, cv=5)\n",
        "print(\"\\nCross-Validation Scores:\", cv_scores)\n",
        "print(\"Mean Cross-Validation Score:\", np.mean(cv_scores))"
      ],
      "metadata": {
        "colab": {
          "base_uri": "https://localhost:8080/"
        },
        "id": "i-pSD21XmYY2",
        "outputId": "52c73a9c-7147-46ab-c284-c4dc94a44920"
      },
      "execution_count": null,
      "outputs": [
        {
          "output_type": "stream",
          "name": "stderr",
          "text": [
            "/usr/local/lib/python3.10/dist-packages/sklearn/neural_network/_multilayer_perceptron.py:686: ConvergenceWarning: Stochastic Optimizer: Maximum iterations (1000) reached and the optimization hasn't converged yet.\n",
            "  warnings.warn(\n"
          ]
        },
        {
          "output_type": "stream",
          "name": "stdout",
          "text": [
            "Accuracy with alpha=0.001: 0.7627118644067796\n"
          ]
        },
        {
          "output_type": "stream",
          "name": "stderr",
          "text": [
            "/usr/local/lib/python3.10/dist-packages/sklearn/neural_network/_multilayer_perceptron.py:686: ConvergenceWarning: Stochastic Optimizer: Maximum iterations (1000) reached and the optimization hasn't converged yet.\n",
            "  warnings.warn(\n"
          ]
        },
        {
          "output_type": "stream",
          "name": "stdout",
          "text": [
            "Accuracy with alpha=0.01: 0.7627118644067796\n"
          ]
        },
        {
          "output_type": "stream",
          "name": "stderr",
          "text": [
            "/usr/local/lib/python3.10/dist-packages/sklearn/neural_network/_multilayer_perceptron.py:686: ConvergenceWarning: Stochastic Optimizer: Maximum iterations (1000) reached and the optimization hasn't converged yet.\n",
            "  warnings.warn(\n"
          ]
        },
        {
          "output_type": "stream",
          "name": "stdout",
          "text": [
            "Accuracy with alpha=0.1: 0.7711864406779662\n"
          ]
        },
        {
          "output_type": "stream",
          "name": "stderr",
          "text": [
            "/usr/local/lib/python3.10/dist-packages/sklearn/neural_network/_multilayer_perceptron.py:686: ConvergenceWarning: Stochastic Optimizer: Maximum iterations (1000) reached and the optimization hasn't converged yet.\n",
            "  warnings.warn(\n"
          ]
        },
        {
          "output_type": "stream",
          "name": "stdout",
          "text": [
            "Accuracy with alpha=1: 0.7711864406779662\n",
            "Accuracy with alpha=2: 0.7627118644067796\n",
            "Accuracy with alpha=3: 0.8050847457627118\n",
            "Accuracy with alpha=4: 0.788135593220339\n",
            "Accuracy with alpha=5: 0.8135593220338984\n",
            "Accuracy with alpha=6: 0.8050847457627118\n",
            "Accuracy with alpha=7: 0.8135593220338984\n",
            "Accuracy with alpha=8: 0.8305084745762712\n",
            "Accuracy with alpha=9: 0.8389830508474576\n",
            "Accuracy with alpha=10: 0.8389830508474576\n",
            "Accuracy with alpha=11: 0.847457627118644\n",
            "Accuracy with alpha=12: 0.847457627118644\n",
            "Accuracy with alpha=13: 0.8305084745762712\n",
            "Accuracy with alpha=14: 0.8220338983050848\n",
            "Accuracy with alpha=15: 0.8050847457627118\n",
            "Accuracy with alpha=16: 0.788135593220339\n",
            "Accuracy with alpha=17: 0.7627118644067796\n",
            "Accuracy with alpha=18: 0.7627118644067796\n",
            "Accuracy with alpha=19: 0.7542372881355932\n",
            "Accuracy with alpha=20: 0.7033898305084746\n",
            "\n",
            "Classification Report:\n",
            "              precision    recall  f1-score   support\n",
            "\n",
            "           0       0.69      1.00      0.82        79\n",
            "           1       1.00      0.10      0.19        39\n",
            "\n",
            "    accuracy                           0.70       118\n",
            "   macro avg       0.85      0.55      0.50       118\n",
            "weighted avg       0.79      0.70      0.61       118\n",
            "\n",
            "\n",
            "Confusion Matrix:\n",
            "[[79  0]\n",
            " [35  4]]\n",
            "\n",
            "Cross-Validation Scores: [0.67272727 0.67272727 0.67272727 0.65454545 0.66666667]\n",
            "Mean Cross-Validation Score: 0.6678787878787878\n"
          ]
        }
      ]
    },
    {
      "cell_type": "code",
      "source": [
        "from sklearn.neural_network import MLPClassifier\n",
        "from sklearn.metrics import accuracy_score\n",
        "\n",
        "# Train a neural network using the combined dataset with regularization\n",
        "classifier_combined_regularized = MLPClassifier(hidden_layer_sizes=(8, 4), max_iter=1000, random_state=1, alpha=11)\n",
        "classifier_combined_regularized.fit(x_train_combined, y_train)\n",
        "\n",
        "# Make predictions on the training set\n",
        "y_pred_combined_a = classifier_combined_regularized.predict(x_train_combined)\n",
        "accuracy_combined_a = accuracy_score(y_train, y_pred_combined_a)\n",
        "print(\"Accuracy of the Combined Model on Training Set:\", accuracy_combined_a)\n",
        "\n",
        "# Make predictions on the test set\n",
        "y_pred_combined = classifier_combined_regularized.predict(x_test_combined)\n",
        "\n",
        "# Evaluate the performance of the combined model on the test set\n",
        "accuracy_combined = accuracy_score(y_test, y_pred_combined)\n",
        "print(\"Accuracy of the Combined Model on Test Set:\", accuracy_combined)"
      ],
      "metadata": {
        "colab": {
          "base_uri": "https://localhost:8080/"
        },
        "id": "5qRaEZREXeGE",
        "outputId": "a607a2af-2799-4d32-bf33-d8093f50df01"
      },
      "execution_count": null,
      "outputs": [
        {
          "output_type": "stream",
          "name": "stdout",
          "text": [
            "Accuracy of the Combined Model on Training Set: 0.7773722627737226\n",
            "Accuracy of the Combined Model on Test Set: 0.847457627118644\n"
          ]
        }
      ]
    },
    {
      "cell_type": "code",
      "execution_count": null,
      "metadata": {
        "colab": {
          "base_uri": "https://localhost:8080/",
          "height": 140
        },
        "id": "TcoEY3wT5mpa",
        "outputId": "8e6de9b3-5f91-49f3-c9c0-c739be254aad"
      },
      "outputs": [
        {
          "output_type": "execute_result",
          "data": {
            "text/plain": [
              "' # Convert \\'fuzzy_output\\' to a DataFrame\\nfuzzy_features = pd.DataFrame(result_np, columns=[\\'fuzzy_output\\'])\\n\\nx_train.reset_index(drop=True, inplace=True)\\nfuzzy_features.reset_index(drop=True, inplace=True)\\n\\n# Combine fuzzy output with the scaled training data\\nx_train_combined = pd.concat([x_train, fuzzy_features], axis=1)\\n\\n\\n# Train a neural network using the combined dataset\\nclassifier_combined = MLPClassifier(hidden_layer_sizes=(8, 4), max_iter=1000, random_state=1)\\nclassifier_combined.fit(x_train_combined, y_train)\\n\\nfuzzy_features_t = pd.DataFrame(result_np_test, columns=[\\'fuzzy_output\\'])\\nx_test.reset_index(drop=True, inplace=True)\\nfuzzy_features_t.reset_index(drop=True, inplace=True)\\n\\n    # Combine fuzzy output with the scaled test data\\nx_test_combined = pd.concat([x_test, fuzzy_features_t ], axis=1)\\n\\n\\n    # Make predictions using the trained neural network\\ny_pred_combined = classifier_combined.predict(x_test_combined)\\n\\n    # Evaluate the performance of the combined model\\naccuracy_combined = accuracy_score(y_test, y_pred_combined)\\nprint(\"Accuracy of the Combined Model:\", accuracy_combined)'"
            ],
            "application/vnd.google.colaboratory.intrinsic+json": {
              "type": "string"
            }
          },
          "metadata": {},
          "execution_count": 38
        }
      ],
      "source": [
        "\"\"\" # Convert 'fuzzy_output' to a DataFrame\n",
        "fuzzy_features = pd.DataFrame(result_np, columns=['fuzzy_output'])\n",
        "\n",
        "x_train.reset_index(drop=True, inplace=True)\n",
        "fuzzy_features.reset_index(drop=True, inplace=True)\n",
        "\n",
        "# Combine fuzzy output with the scaled training data\n",
        "x_train_combined = pd.concat([x_train, fuzzy_features], axis=1)\n",
        "\n",
        "\n",
        "# Train a neural network using the combined dataset\n",
        "classifier_combined = MLPClassifier(hidden_layer_sizes=(8, 4), max_iter=1000, random_state=1)\n",
        "classifier_combined.fit(x_train_combined, y_train)\n",
        "\n",
        "fuzzy_features_t = pd.DataFrame(result_np_test, columns=['fuzzy_output'])\n",
        "x_test.reset_index(drop=True, inplace=True)\n",
        "fuzzy_features_t.reset_index(drop=True, inplace=True)\n",
        "\n",
        "    # Combine fuzzy output with the scaled test data\n",
        "x_test_combined = pd.concat([x_test, fuzzy_features_t ], axis=1)\n",
        "\n",
        "\n",
        "    # Make predictions using the trained neural network\n",
        "y_pred_combined = classifier_combined.predict(x_test_combined)\n",
        "\n",
        "    # Evaluate the performance of the combined model\n",
        "accuracy_combined = accuracy_score(y_test, y_pred_combined)\n",
        "print(\"Accuracy of the Combined Model:\", accuracy_combined)\"\"\"\n",
        "\n",
        "\n"
      ]
    }
  ],
  "metadata": {
    "colab": {
      "provenance": []
    },
    "kernelspec": {
      "display_name": "Python 3",
      "name": "python3"
    },
    "language_info": {
      "name": "python"
    }
  },
  "nbformat": 4,
  "nbformat_minor": 0
}